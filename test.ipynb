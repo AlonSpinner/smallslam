{
 "cells": [
  {
   "cell_type": "code",
   "execution_count": 1,
   "metadata": {},
   "outputs": [],
   "source": [
    "import robot\n",
    "import map\n",
    "import solver\n",
    "import utils\n",
    "\n",
    "import numpy as np\n",
    "import gtsam\n",
    "import matplotlib.pyplot as plt\n",
    "\n",
    "%matplotlib qt"
   ]
  },
  {
   "cell_type": "markdown",
   "metadata": {},
   "source": [
    "# unitTest 1: Move robot and check odometrey measurements"
   ]
  },
  {
   "cell_type": "code",
   "execution_count": 2,
   "metadata": {},
   "outputs": [],
   "source": [
    "car = robot.robot()\n",
    "\n",
    "#control inputs\n",
    "dr = 0.4 #[m]\n",
    "dtheta = np.radians(20)\n",
    "\n",
    "time = 0 #[s]\n",
    "dt = 0.5 \n",
    "timeFinal = 10\n",
    "\n",
    "#init history loggers\n",
    "hist_GT = np.array(car.pose)\n",
    "hist_DR = hist_GT.copy()\n",
    "\n",
    "#set graphics\n",
    "fig , ax = utils.setWorldMap()\n",
    "graphic_GT_traj, = plt.plot([], [],'ko-',markersize = 5)\n",
    "graphic_DR_traj, = plt.plot([], [],'ro-',markersize = 5)\n",
    "ax.legend([\"ground truth\",\"dead reckoning\"])\n",
    "\n",
    "#run and plot simulation\n",
    "xcurrent_DR = hist_GT.copy()\n",
    "with plt.ion():\n",
    "    while time <= timeFinal:\n",
    "        meas_odom = car.moveAndMeasureOdometrey((dr,dtheta))\n",
    "        \n",
    "        #dead reckoning integration\n",
    "        xcurrent_DR[2] += meas_odom.dtheta #update angle\n",
    "        xcurrent_DR[0] += meas_odom.dr * np.cos(xcurrent_DR[2])\n",
    "        xcurrent_DR[1] += meas_odom.dr * np.sin(xcurrent_DR[2])\n",
    "        \n",
    "        #log history\n",
    "        hist_DR = np.vstack([hist_DR,xcurrent_DR])\n",
    "        hist_GT = np.vstack([hist_GT,car.pose])\n",
    "\n",
    "        #increase time\n",
    "        time += dt\n",
    "\n",
    "        #plot\n",
    "        graphic_GT_traj.set_data(hist_GT[:,0],hist_GT[:,1])\n",
    "        graphic_DR_traj.set_data(hist_DR[:,0],hist_DR[:,1])\n",
    "        plt.draw()\n",
    "        plt.pause(dt)"
   ]
  },
  {
   "cell_type": "markdown",
   "metadata": {},
   "source": [
    "# unitTest 2: Build prior map"
   ]
  },
  {
   "cell_type": "code",
   "execution_count": 4,
   "metadata": {},
   "outputs": [],
   "source": [
    "np.random.seed(seed=2)\n",
    "\n",
    "N = 10 #number of landmarks\n",
    "semantics = (\"table\",\"MEP\",\"chair\",\"pillar\",\"clutter\")\n",
    "xrange = (-2,2)\n",
    "yrange = (-1,3)\n",
    "sigMin = -0.5\n",
    "sigMax = 0.5\n",
    "\n",
    "landmarks = [None] * N\n",
    "for ii in range(N):\n",
    "    sigs = np.random.uniform(low=sigMin, high=sigMax, size=(2,2))\n",
    "    cov = sigs@sigs.T #enforce symmetric and positive definite: https://mathworld.wolfram.com/PositiveDefiniteMatrix.html\n",
    "    landmarks[ii] = map.landmark(x = (np.random.rand()-0.5) * np.diff(xrange) + np.mean(xrange),\n",
    "                                 y = (np.random.rand()-0.5) * np.diff(yrange) + np.mean(yrange),\n",
    "                                 classLabel = np.random.choice(semantics),\n",
    "                                 cov = cov)\n",
    "\n",
    "priorMap = map.map(landmarks)\n",
    "priorMap.plot(plotIndex = True,plotCov = True)"
   ]
  },
  {
   "cell_type": "markdown",
   "metadata": {},
   "source": [
    "# unitTest 3: Move car and check landmark measurements"
   ]
  },
  {
   "cell_type": "code",
   "execution_count": 7,
   "metadata": {},
   "outputs": [
    {
     "name": "stdout",
     "output_type": "stream",
     "text": [
      "[[], [], [<robot.meas_landmark object at 0x7f6a5f415fd0>], [<robot.meas_landmark object at 0x7f6a5f415940>], [<robot.meas_landmark object at 0x7f6a5f0588e0>, <robot.meas_landmark object at 0x7f6a5f02d7f0>], [<robot.meas_landmark object at 0x7f6a5f610eb0>, <robot.meas_landmark object at 0x7f6a5f04ba30>, <robot.meas_landmark object at 0x7f6a5f02d490>], [<robot.meas_landmark object at 0x7f6a5f415670>, <robot.meas_landmark object at 0x7f6a5f02d3a0>, <robot.meas_landmark object at 0x7f6a5f02d7c0>], [<robot.meas_landmark object at 0x7f6a5f02d880>, <robot.meas_landmark object at 0x7f6a5f04b790>], [<robot.meas_landmark object at 0x7f6a5f02d940>, <robot.meas_landmark object at 0x7f6a5f045e50>], [<robot.meas_landmark object at 0x7f6a5f04b7c0>], [], [], [], [], [], [], [], [], [], [], [<robot.meas_landmark object at 0x7f6a5f41aca0>]]\n"
     ]
    }
   ],
   "source": [
    "#------Build worldmap\n",
    "fig , ax = utils.setWorldMap()\n",
    "np.random.seed(seed=0)\n",
    "\n",
    "N = 10 #number of landmarks\n",
    "semantics = (\"table\",\"MEP\",\"chair\",\"pillar\",\"clutter\")\n",
    "xrange = (-2,2)\n",
    "yrange = (-1,3)\n",
    "\n",
    "landmarks = [None] * N\n",
    "for ii in range(N):\n",
    "    landmarks[ii] = map.landmark(x = (np.random.rand()-0.5) * np.diff(xrange) + np.mean(xrange),\n",
    "                                 y = (np.random.rand()-0.5) * np.diff(yrange) + np.mean(yrange),\n",
    "                                 classLabel = np.random.choice(semantics),\n",
    "                                 )\n",
    "worldMap = map.map(landmarks)\n",
    "worldMap.plot(ax = ax, plotIndex = True,plotCov = False)\n",
    "\n",
    "#------Spawn Robot\n",
    "car = robot.robot()\n",
    "#control inputs\n",
    "dr = 0.4 #[m]\n",
    "dtheta = np.radians(20)\n",
    "odom = (dr,dtheta)\n",
    "\n",
    "#------Simulation parameters\n",
    "time = 0 #[s]\n",
    "dt = 0.5 \n",
    "timeFinal = 10\n",
    "\n",
    "#init history loggers\n",
    "hist_GT = np.array(car.pose)\n",
    "hist_DR = hist_GT.copy()\n",
    "hist_LM = []\n",
    "\n",
    "#set graphics\n",
    "graphic_GT_traj, = plt.plot([], [],'ko-',markersize = 5)\n",
    "graphic_DR_traj, = plt.plot([], [],'ro-',markersize = 5)\n",
    "\n",
    "#run and plot simulation\n",
    "xcurrent_DR = hist_GT.copy()\n",
    "with plt.ion():\n",
    "    while time <= timeFinal:\n",
    "        meas_odom = car.moveAndMeasureOdometrey((dr,dtheta))\n",
    "\n",
    "        meas_lm = car.measureLandmarks(worldMap)\n",
    "\n",
    "        #dead reckoning integration\n",
    "        xcurrent_DR[2] += meas_odom.dtheta #update angle\n",
    "        xcurrent_DR[0] += meas_odom.dr * np.cos(xcurrent_DR[2])\n",
    "        xcurrent_DR[1] += meas_odom.dr * np.sin(xcurrent_DR[2])\n",
    "        \n",
    "        #log history\n",
    "        hist_GT = np.vstack([hist_GT,car.pose])\n",
    "        hist_DR = np.vstack([hist_DR,xcurrent_DR])\n",
    "        hist_LM.append(meas_lm)\n",
    "\n",
    "        #increase time\n",
    "        time += dt\n",
    "\n",
    "        #plot\n",
    "        graphic_GT_traj.set_data(hist_GT[:,0],hist_GT[:,1])\n",
    "        graphic_DR_traj.set_data(hist_DR[:,0],hist_DR[:,1])\n",
    "        plt.draw()\n",
    "        plt.pause(dt)\n",
    "\n",
    "print(hist_LM)"
   ]
  },
  {
   "cell_type": "markdown",
   "metadata": {},
   "source": [
    "# unitTest4: Plot Robot Cone"
   ]
  },
  {
   "cell_type": "code",
   "execution_count": 6,
   "metadata": {},
   "outputs": [],
   "source": [
    "#------Build worldmap\n",
    "fig , ax = utils.setWorldMap()\n",
    "np.random.seed(seed=0)\n",
    "\n",
    "#------Spawn Robot\n",
    "car = robot.robot()\n",
    "car.plot(ax)\n",
    "#control inputs\n",
    "dr = 0.4 #[m]\n",
    "dtheta = np.radians(20)\n",
    "odom = (dr,dtheta)\n",
    "\n",
    "#------Simulation parameters\n",
    "time = 0 #[s]\n",
    "dt = 0.5 \n",
    "timeFinal = 10\n",
    "\n",
    "with plt.ion():\n",
    "    while time <= timeFinal:\n",
    "        car.moveAndMeasureOdometrey((dr,dtheta))\n",
    "\n",
    "        #increase time\n",
    "        time += dt\n",
    "\n",
    "        car.plot()\n",
    "        plt.draw()\n",
    "        plt.pause(dt)"
   ]
  },
  {
   "cell_type": "markdown",
   "metadata": {},
   "source": [
    "# unitTest5: putting everything together before gtsam"
   ]
  },
  {
   "cell_type": "code",
   "execution_count": 2,
   "metadata": {},
   "outputs": [
    {
     "name": "stdout",
     "output_type": "stream",
     "text": [
      "[[<robot.meas_landmark object at 0x7f4a70ce9f40>, <robot.meas_landmark object at 0x7f4a70cff070>, <robot.meas_landmark object at 0x7f4a70cff0d0>, <robot.meas_landmark object at 0x7f4a70cff130>, <robot.meas_landmark object at 0x7f4a70cff190>, <robot.meas_landmark object at 0x7f4a70cff1f0>, <robot.meas_landmark object at 0x7f4a70cff250>, <robot.meas_landmark object at 0x7f4a70cff2b0>], [<robot.meas_landmark object at 0x7f4a70ce9e80>, <robot.meas_landmark object at 0x7f4a70c6fa90>, <robot.meas_landmark object at 0x7f4a70c73880>, <robot.meas_landmark object at 0x7f4a70c738e0>, <robot.meas_landmark object at 0x7f4a70c73940>, <robot.meas_landmark object at 0x7f4a70c739a0>, <robot.meas_landmark object at 0x7f4a70c73a00>], [<robot.meas_landmark object at 0x7f4a70cff4c0>, <robot.meas_landmark object at 0x7f4a70c73a90>, <robot.meas_landmark object at 0x7f4a70c73b20>, <robot.meas_landmark object at 0x7f4a70c73cd0>, <robot.meas_landmark object at 0x7f4a70c73d60>, <robot.meas_landmark object at 0x7f4a70c73c70>], [<robot.meas_landmark object at 0x7f4a70cff4f0>, <robot.meas_landmark object at 0x7f4a70c73e20>, <robot.meas_landmark object at 0x7f4a70c73ac0>, <robot.meas_landmark object at 0x7f4a70c73e50>, <robot.meas_landmark object at 0x7f4a70c73ee0>, <robot.meas_landmark object at 0x7f4a70c73c10>], [<robot.meas_landmark object at 0x7f4a70c73b50>, <robot.meas_landmark object at 0x7f4a70c73f10>, <robot.meas_landmark object at 0x7f4a70c437c0>, <robot.meas_landmark object at 0x7f4a70c50850>, <robot.meas_landmark object at 0x7f4a70cb1c70>, <robot.meas_landmark object at 0x7f4a70c7a190>], [<robot.meas_landmark object at 0x7f4a70c73bb0>, <robot.meas_landmark object at 0x7f4a70c568e0>, <robot.meas_landmark object at 0x7f4a70c7a0d0>, <robot.meas_landmark object at 0x7f4a70c7a430>, <robot.meas_landmark object at 0x7f4a70c7a1c0>], [<robot.meas_landmark object at 0x7f4a70c73fa0>, <robot.meas_landmark object at 0x7f4a70c43670>, <robot.meas_landmark object at 0x7f4a70cabfd0>, <robot.meas_landmark object at 0x7f4a70c50820>, <robot.meas_landmark object at 0x7f4a70c50190>, <robot.meas_landmark object at 0x7f4a70c50130>], [<robot.meas_landmark object at 0x7f4a70cd2a30>, <robot.meas_landmark object at 0x7f4a78031d30>, <robot.meas_landmark object at 0x7f4a70cff760>, <robot.meas_landmark object at 0x7f4a70cffd90>, <robot.meas_landmark object at 0x7f4a70cffbe0>, <robot.meas_landmark object at 0x7f4a79c09a00>], [<robot.meas_landmark object at 0x7f4a70cd2a60>, <robot.meas_landmark object at 0x7f4a70c43fd0>, <robot.meas_landmark object at 0x7f4a70cb1130>, <robot.meas_landmark object at 0x7f4a70cff460>, <robot.meas_landmark object at 0x7f4a70c7a460>, <robot.meas_landmark object at 0x7f4a70c7a850>], [<robot.meas_landmark object at 0x7f4a79c09b20>, <robot.meas_landmark object at 0x7f4a70c50c10>, <robot.meas_landmark object at 0x7f4a70c7a6d0>, <robot.meas_landmark object at 0x7f4a70c7a280>, <robot.meas_landmark object at 0x7f4a70c7a310>, <robot.meas_landmark object at 0x7f4a70c7a340>, <robot.meas_landmark object at 0x7f4a70c7a130>, <robot.meas_landmark object at 0x7f4a70c7a8b0>], [<robot.meas_landmark object at 0x7f4a79c09b50>, <robot.meas_landmark object at 0x7f4a70c43430>, <robot.meas_landmark object at 0x7f4a70c7a7c0>, <robot.meas_landmark object at 0x7f4a70c7a880>, <robot.meas_landmark object at 0x7f4a70c7a9a0>, <robot.meas_landmark object at 0x7f4a70c7aa30>, <robot.meas_landmark object at 0x7f4a70c7a220>, <robot.meas_landmark object at 0x7f4a70c7a640>], [<robot.meas_landmark object at 0x7f4a70cffd00>, <robot.meas_landmark object at 0x7f4a70c43520>, <robot.meas_landmark object at 0x7f4a70c7a9d0>, <robot.meas_landmark object at 0x7f4a70c7ab20>, <robot.meas_landmark object at 0x7f4a70c7ad00>, <robot.meas_landmark object at 0x7f4a70c7a940>, <robot.meas_landmark object at 0x7f4a70c7aac0>, <robot.meas_landmark object at 0x7f4a70c7ac40>, <robot.meas_landmark object at 0x7f4a70c7a910>], [<robot.meas_landmark object at 0x7f4a70c7adc0>, <robot.meas_landmark object at 0x7f4a70c7a8e0>, <robot.meas_landmark object at 0x7f4a70c7ab80>, <robot.meas_landmark object at 0x7f4a70c7ac10>, <robot.meas_landmark object at 0x7f4a70c7ad30>, <robot.meas_landmark object at 0x7f4a70c7ae20>, <robot.meas_landmark object at 0x7f4a70cb1100>, <robot.meas_landmark object at 0x7f4a70c50e50>], [<robot.meas_landmark object at 0x7f4a70c7abb0>, <robot.meas_landmark object at 0x7f4a70c50fa0>, <robot.meas_landmark object at 0x7f4a70ad3190>, <robot.meas_landmark object at 0x7f4a70ad3250>, <robot.meas_landmark object at 0x7f4a70ad3130>, <robot.meas_landmark object at 0x7f4a70ad3100>, <robot.meas_landmark object at 0x7f4a70ad31f0>], [<robot.meas_landmark object at 0x7f4a70c7ae50>, <robot.meas_landmark object at 0x7f4a70c432e0>, <robot.meas_landmark object at 0x7f4a70ad3370>, <robot.meas_landmark object at 0x7f4a70ad34c0>, <robot.meas_landmark object at 0x7f4a70ad3430>, <robot.meas_landmark object at 0x7f4a70ad37c0>, <robot.meas_landmark object at 0x7f4a70ad32b0>], [<robot.meas_landmark object at 0x7f4a70c7adf0>, <robot.meas_landmark object at 0x7f4a70c433d0>, <robot.meas_landmark object at 0x7f4a70ad3310>, <robot.meas_landmark object at 0x7f4a70ad33a0>, <robot.meas_landmark object at 0x7f4a70ad38b0>, <robot.meas_landmark object at 0x7f4a70ad3a90>, <robot.meas_landmark object at 0x7f4a70ad3910>, <robot.meas_landmark object at 0x7f4a70ad3b20>], [<robot.meas_landmark object at 0x7f4a70c7af10>, <robot.meas_landmark object at 0x7f4a70c43400>, <robot.meas_landmark object at 0x7f4a70ad3a00>, <robot.meas_landmark object at 0x7f4a70ad3880>, <robot.meas_landmark object at 0x7f4a70ad3d00>, <robot.meas_landmark object at 0x7f4a70ad39d0>, <robot.meas_landmark object at 0x7f4a70ad3b80>], [<robot.meas_landmark object at 0x7f4a70c7a670>, <robot.meas_landmark object at 0x7f4a70ad3700>, <robot.meas_landmark object at 0x7f4a70ad3e20>, <robot.meas_landmark object at 0x7f4a70ad3eb0>, <robot.meas_landmark object at 0x7f4a70ad3c10>, <robot.meas_landmark object at 0x7f4a70ad3f10>, <robot.meas_landmark object at 0x7f4a70ad3ee0>], [<robot.meas_landmark object at 0x7f4a70ad3cd0>, <robot.meas_landmark object at 0x7f4a70ad3c40>, <robot.meas_landmark object at 0x7f4a70ad3af0>, <robot.meas_landmark object at 0x7f4a70c56880>, <robot.meas_landmark object at 0x7f4a70ae31f0>, <robot.meas_landmark object at 0x7f4a70ae3370>], [<robot.meas_landmark object at 0x7f4a70cb1ee0>, <robot.meas_landmark object at 0x7f4a70c5cb20>, <robot.meas_landmark object at 0x7f4a70ae3040>, <robot.meas_landmark object at 0x7f4a70ae3280>, <robot.meas_landmark object at 0x7f4a70ae30d0>, <robot.meas_landmark object at 0x7f4a70ae3430>], [<robot.meas_landmark object at 0x7f4a70ad3a30>, <robot.meas_landmark object at 0x7f4a70c43280>, <robot.meas_landmark object at 0x7f4a70ae3130>, <robot.meas_landmark object at 0x7f4a70ae36a0>, <robot.meas_landmark object at 0x7f4a70ae3160>, <robot.meas_landmark object at 0x7f4a70ae35b0>]]\n"
     ]
    }
   ],
   "source": [
    "car, worldMap, ax, fig = utils.default_world()\n",
    "prms = utils.default_parameters()\n",
    "\n",
    "#init history loggers\n",
    "hist_GT = np.array(car.pose)\n",
    "hist_DR = hist_GT.copy()\n",
    "hist_LM = []\n",
    "\n",
    "#set graphics\n",
    "graphic_GT_traj, = plt.plot([], [],'ko-',markersize = 1)\n",
    "graphic_DR_traj, = plt.plot([], [],'ro-',markersize = 1)\n",
    "\n",
    "#run and plot simulation\n",
    "time = 0\n",
    "xcurrent_DR = hist_GT.copy()\n",
    "with plt.ion():\n",
    "    while time <= prms[\"time\"][\"timeFinal\"]:\n",
    "        meas_odom = car.moveAndMeasureOdometrey((prms[\"odom\"][\"dr\"],prms[\"odom\"][\"dtheta\"]))\n",
    "\n",
    "        meas_lm = car.measureLandmarks(worldMap)\n",
    "\n",
    "        #dead reckoning integration\n",
    "        xcurrent_DR[2] += meas_odom.dtheta #update angle\n",
    "        xcurrent_DR[0] += meas_odom.dr * np.cos(xcurrent_DR[2])\n",
    "        xcurrent_DR[1] += meas_odom.dr * np.sin(xcurrent_DR[2])\n",
    "        \n",
    "        #log history\n",
    "        hist_GT = np.vstack([hist_GT,car.pose])\n",
    "        hist_DR = np.vstack([hist_DR,xcurrent_DR])\n",
    "        hist_LM.append(meas_lm)\n",
    "\n",
    "        #increase time\n",
    "        time += prms[\"time\"][\"dt\"]\n",
    "\n",
    "        #plot\n",
    "        car.plot()\n",
    "        graphic_GT_traj.set_data(hist_GT[:,0],hist_GT[:,1])\n",
    "        graphic_DR_traj.set_data(hist_DR[:,0],hist_DR[:,1])\n",
    "        plt.draw()\n",
    "        plt.pause(prms[\"time\"][\"dt\"])\n",
    "\n",
    "print(hist_LM)"
   ]
  },
  {
   "cell_type": "markdown",
   "metadata": {},
   "source": [
    "# unitTest6 GTSAM\n",
    "\n",
    "notes: </br>\n",
    "examples folder: /home/alon18/LocalInstalls/miniconda3/envs/smallslam/lib/python3.9/site-packages/gtsam/examples </br>\n",
    "* imuFactorISAM2Example.py - understand difference between graph.add and graph.push_back </br>\n",
    "  + never mind, they are the same (?) https://gtsam.org/doxygen/a03480.html#a1bd7154e74538b5934fc616bb5ef7281 </br>\n",
    "* PlanarSLAMExample.py- factor for range and bearing </br>\n",
    "\n",
    "\n",
    "from VisualISAMExample.py: </br>\n",
    "      # If this is the first iteration, add a prior on the first pose to set the coordinate frame </br>\n",
    "        # and a prior on the first landmark to set the scale </br>\n",
    "        # Also, as iSAM solves incrementally, we must wait until each is observed at least twice before </br>\n",
    "        # adding it to iSAM. </br>"
   ]
  },
  {
   "cell_type": "code",
   "execution_count": 14,
   "metadata": {},
   "outputs": [
    {
     "ename": "TypeError",
     "evalue": "X(): incompatible function arguments. The following argument types are supported:\n    1. (j: int) -> int\n\nInvoked with: -1",
     "output_type": "error",
     "traceback": [
      "\u001b[0;31m---------------------------------------------------------------------------\u001b[0m",
      "\u001b[0;31mTypeError\u001b[0m                                 Traceback (most recent call last)",
      "\u001b[1;32m/home/alon18/Desktop/Link to repos/smallslam/test.ipynb Cell 13'\u001b[0m in \u001b[0;36m<module>\u001b[0;34m\u001b[0m\n\u001b[1;32m     <a href='vscode-notebook-cell:/home/alon18/Desktop/Link%20to%20repos/smallslam/test.ipynb#ch0000015?line=19'>20</a>\u001b[0m meas_odom \u001b[39m=\u001b[39m car\u001b[39m.\u001b[39mmoveAndMeasureOdometrey((prms[\u001b[39m\"\u001b[39m\u001b[39modom\u001b[39m\u001b[39m\"\u001b[39m][\u001b[39m\"\u001b[39m\u001b[39mdr\u001b[39m\u001b[39m\"\u001b[39m],prms[\u001b[39m\"\u001b[39m\u001b[39modom\u001b[39m\u001b[39m\"\u001b[39m][\u001b[39m\"\u001b[39m\u001b[39mdtheta\u001b[39m\u001b[39m\"\u001b[39m]))\n\u001b[1;32m     <a href='vscode-notebook-cell:/home/alon18/Desktop/Link%20to%20repos/smallslam/test.ipynb#ch0000015?line=20'>21</a>\u001b[0m meas_lms \u001b[39m=\u001b[39m car\u001b[39m.\u001b[39mmeasureLandmarks(worldMap)\n\u001b[0;32m---> <a href='vscode-notebook-cell:/home/alon18/Desktop/Link%20to%20repos/smallslam/test.ipynb#ch0000015?line=22'>23</a>\u001b[0m backend\u001b[39m.\u001b[39;49maddOdomMeasurement(meas_odom)\n\u001b[1;32m     <a href='vscode-notebook-cell:/home/alon18/Desktop/Link%20to%20repos/smallslam/test.ipynb#ch0000015?line=23'>24</a>\u001b[0m \u001b[39mfor\u001b[39;00m meas_lm \u001b[39min\u001b[39;00m meas_lms:\n\u001b[1;32m     <a href='vscode-notebook-cell:/home/alon18/Desktop/Link%20to%20repos/smallslam/test.ipynb#ch0000015?line=24'>25</a>\u001b[0m     backend\u001b[39m.\u001b[39maddlandmarkMeasurement(meas_lm)\n",
      "File \u001b[0;32m~/repos/smallslam/solver.py:33\u001b[0m, in \u001b[0;36msolver.addOdomMeasurement\u001b[0;34m(self, meas)\u001b[0m\n\u001b[1;32m     <a href='file:///~/repos/smallslam/solver.py?line=28'>29</a>\u001b[0m meas_y \u001b[39m=\u001b[39m meas\u001b[39m.\u001b[39mdr \u001b[39m*\u001b[39m np\u001b[39m.\u001b[39msin(meas\u001b[39m.\u001b[39mdtheta)\n\u001b[1;32m     <a href='file:///~/repos/smallslam/solver.py?line=29'>30</a>\u001b[0m odom_noise \u001b[39m=\u001b[39m gtsam\u001b[39m.\u001b[39mnoiseModel\u001b[39m.\u001b[39mDiagonal\u001b[39m.\u001b[39mSigmas(meas\u001b[39m.\u001b[39mcov)\n\u001b[1;32m     <a href='file:///~/repos/smallslam/solver.py?line=31'>32</a>\u001b[0m factor \u001b[39m=\u001b[39m gtsam\u001b[39m.\u001b[39mBetweenFactorPose2(\n\u001b[0;32m---> <a href='file:///~/repos/smallslam/solver.py?line=32'>33</a>\u001b[0m                 X(\u001b[39mself\u001b[39;49m\u001b[39m.\u001b[39;49mi\u001b[39m-\u001b[39;49m\u001b[39m1\u001b[39;49m), X(\u001b[39mself\u001b[39m\u001b[39m.\u001b[39mi), \n\u001b[1;32m     <a href='file:///~/repos/smallslam/solver.py?line=33'>34</a>\u001b[0m                 gtsam\u001b[39m.\u001b[39mPose2(meas_x, meas_y, meas\u001b[39m.\u001b[39mdtheta), odom_noise)\n\u001b[1;32m     <a href='file:///~/repos/smallslam/solver.py?line=34'>35</a>\u001b[0m \u001b[39mself\u001b[39m\u001b[39m.\u001b[39mgraph\u001b[39m.\u001b[39mpush_back(factor)\n\u001b[1;32m     <a href='file:///~/repos/smallslam/solver.py?line=36'>37</a>\u001b[0m initial_xi \u001b[39m=\u001b[39m \u001b[39mself\u001b[39m\u001b[39m.\u001b[39mpose\u001b[39m.\u001b[39mcompose(odom_noise)\n",
      "\u001b[0;31mTypeError\u001b[0m: X(): incompatible function arguments. The following argument types are supported:\n    1. (j: int) -> int\n\nInvoked with: -1"
     ]
    }
   ],
   "source": [
    "car, worldMap, ax, fig = utils.default_world()\n",
    "prms = utils.default_parameters()\n",
    "backend = solver.solver()\n",
    "\n",
    "#init history loggers\n",
    "hist_GT = np.array(car.pose)\n",
    "hist_DR = hist_GT.copy()\n",
    "hist_LM = []\n",
    "hist_solverResults = []\n",
    "\n",
    "#set graphics\n",
    "graphic_GT_traj, = plt.plot([], [],'ko-',markersize = 1)\n",
    "graphic_DR_traj, = plt.plot([], [],'ro-',markersize = 1)\n",
    "\n",
    "#run and plot simulation\n",
    "time = 0\n",
    "xcurrent_DR = hist_GT.copy()\n",
    "with plt.ion():\n",
    "    while time <= prms[\"time\"][\"timeFinal\"]:\n",
    "        meas_odom = car.moveAndMeasureOdometrey((prms[\"odom\"][\"dr\"],prms[\"odom\"][\"dtheta\"]))\n",
    "        meas_lms = car.measureLandmarks(worldMap)\n",
    "\n",
    "        backend.updateTimeIndex()\n",
    "        backend.addOdomMeasurement(meas_odom)\n",
    "        for meas_lm in meas_lms:\n",
    "            backend.addlandmarkMeasurement(meas_lm)\n",
    "        backend.updateGraph()\n",
    "\n",
    "        #dead reckoning integration\n",
    "        xcurrent_DR[2] += meas_odom.dtheta #update angle\n",
    "        xcurrent_DR[0] += meas_odom.dr * np.cos(xcurrent_DR[2])\n",
    "        xcurrent_DR[1] += meas_odom.dr * np.sin(xcurrent_DR[2])\n",
    "        \n",
    "        #log history\n",
    "        hist_GT = np.vstack([hist_GT,car.pose])\n",
    "        hist_DR = np.vstack([hist_DR,xcurrent_DR])\n",
    "        hist_LM.append(meas_lm)\n",
    "        hist_solverResults.append(backend.getResult())\n",
    "\n",
    "        #increase time\n",
    "        time += prms[\"time\"][\"dt\"]\n",
    "\n",
    "        #plot\n",
    "        car.plot()\n",
    "        graphic_GT_traj.set_data(hist_GT[:,0],hist_GT[:,1])\n",
    "        graphic_DR_traj.set_data(hist_DR[:,0],hist_DR[:,1])\n",
    "        plt.draw()\n",
    "        plt.pause(prms[\"time\"][\"dt\"])"
   ]
  },
  {
   "cell_type": "code",
   "execution_count": 10,
   "metadata": {},
   "outputs": [
    {
     "ename": "TypeError",
     "evalue": "print(): incompatible function arguments. The following argument types are supported:\n    1. (self: gtsam.gtsam.noiseModel.Base, s: str = '') -> None\n\nInvoked with: ",
     "output_type": "error",
     "traceback": [
      "\u001b[0;31m---------------------------------------------------------------------------\u001b[0m",
      "\u001b[0;31mTypeError\u001b[0m                                 Traceback (most recent call last)",
      "\u001b[1;32m/home/alon18/Desktop/Link to repos/smallslam/test.ipynb Cell 14'\u001b[0m in \u001b[0;36m<module>\u001b[0;34m\u001b[0m\n\u001b[1;32m      <a href='vscode-notebook-cell:/home/alon18/Desktop/Link%20to%20repos/smallslam/test.ipynb#ch0000013?line=0'>1</a>\u001b[0m n \u001b[39m=\u001b[39m gtsam\u001b[39m.\u001b[39mnoiseModel\u001b[39m.\u001b[39mUnit\n\u001b[0;32m----> <a href='vscode-notebook-cell:/home/alon18/Desktop/Link%20to%20repos/smallslam/test.ipynb#ch0000013?line=1'>2</a>\u001b[0m n\u001b[39m.\u001b[39;49mprint()\n",
      "\u001b[0;31mTypeError\u001b[0m: print(): incompatible function arguments. The following argument types are supported:\n    1. (self: gtsam.gtsam.noiseModel.Base, s: str = '') -> None\n\nInvoked with: "
     ]
    }
   ],
   "source": [
    "n = gtsam.noiseModel.Base\n",
    "n.print()"
   ]
  }
 ],
 "metadata": {
  "interpreter": {
   "hash": "30d3d2a437c141a2ca155708e77ef0fb47f3bb6e3e8e854aeca73371a2a95d1c"
  },
  "kernelspec": {
   "display_name": "Python 3.9.10 ('smallslam')",
   "language": "python",
   "name": "python3"
  },
  "language_info": {
   "codemirror_mode": {
    "name": "ipython",
    "version": 3
   },
   "file_extension": ".py",
   "mimetype": "text/x-python",
   "name": "python",
   "nbconvert_exporter": "python",
   "pygments_lexer": "ipython3",
   "version": "3.9.10"
  },
  "orig_nbformat": 4
 },
 "nbformat": 4,
 "nbformat_minor": 2
}
