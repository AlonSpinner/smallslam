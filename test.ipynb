{
 "cells": [
  {
   "cell_type": "code",
   "execution_count": 1,
   "metadata": {},
   "outputs": [],
   "source": [
    "import robot\n",
    "import map\n",
    "import utils\n",
    "\n",
    "import numpy as np\n",
    "import gtsam\n",
    "import matplotlib.pyplot as plt\n",
    "import random\n",
    "\n",
    "%matplotlib qt"
   ]
  },
  {
   "cell_type": "markdown",
   "metadata": {},
   "source": [
    "# unitTest 1: Move robot and check odometrey measurements"
   ]
  },
  {
   "cell_type": "code",
   "execution_count": 2,
   "metadata": {},
   "outputs": [],
   "source": [
    "car = robot.robot()\n",
    "\n",
    "#control inputs\n",
    "dr = 0.4 #[m]\n",
    "dtheta = np.radians(20)\n",
    "\n",
    "time = 0 #[s]\n",
    "dt = 0.5 \n",
    "timeFinal = 10\n",
    "\n",
    "#init history loggers\n",
    "hist_GT = np.array(car.pose)\n",
    "hist_DR = hist_GT.copy()\n",
    "\n",
    "#set graphics\n",
    "fig , ax = utils.setWorldMap()\n",
    "graphic_GT_traj, = plt.plot([], [],'ko-',markersize = 5)\n",
    "graphic_DR_traj, = plt.plot([], [],'ro-',markersize = 5)\n",
    "ax.legend([\"ground truth\",\"dead reckoning\"])\n",
    "\n",
    "#run and plot simulation\n",
    "xcurrent_DR = hist_GT.copy()\n",
    "while time <= timeFinal:\n",
    "    meas_odom = car.moveAndMeasureOdometrey((dr,dtheta))\n",
    "    \n",
    "    #dead reckoning integration\n",
    "    xcurrent_DR[2] += meas_odom.dtheta #update angle\n",
    "    xcurrent_DR[0] += meas_odom.dr * np.cos(xcurrent_DR[2])\n",
    "    xcurrent_DR[1] += meas_odom.dr * np.sin(xcurrent_DR[2])\n",
    "    \n",
    "    #log history\n",
    "    hist_DR = np.vstack([hist_DR,xcurrent_DR])\n",
    "    hist_GT = np.vstack([hist_GT,car.pose])\n",
    "\n",
    "    #increase time\n",
    "    time += dt\n",
    "\n",
    "    #plot\n",
    "    graphic_GT_traj.set_data(hist_GT[:,0],hist_GT[:,1])\n",
    "    graphic_DR_traj.set_data(hist_DR[:,0],hist_DR[:,1])\n",
    "    plt.draw()\n",
    "    plt.pause(dt)"
   ]
  },
  {
   "cell_type": "markdown",
   "metadata": {},
   "source": [
    "# unitTest 2: World Landmarks"
   ]
  },
  {
   "cell_type": "code",
   "execution_count": 8,
   "metadata": {},
   "outputs": [],
   "source": [
    "np.random.seed(seed=2)\n",
    "\n",
    "N = 10 #number of landmarks\n",
    "semantics = (\"table\",\"MEP\",\"chair\",\"pillar\",\"clutter\")\n",
    "xrange = (-2,2)\n",
    "yrange = (-1,3)\n",
    "sigMin = -0.5\n",
    "sigMax = 0.5\n",
    "\n",
    "landmarks = [None] * N\n",
    "for ii in range(N):\n",
    "    sigs = np.random.uniform(low=sigMin, high=sigMax, size=(2,2))\n",
    "    cov = sigs@sigs.T #enforce symmetric and positive definite: https://mathworld.wolfram.com/PositiveDefiniteMatrix.html\n",
    "    landmarks[ii] = map.landmark(x = (np.random.rand()-0.5) * np.diff(xrange) + np.mean(xrange),\n",
    "                                 y = (np.random.rand()-0.5) * np.diff(yrange) + np.mean(yrange),\n",
    "                                 classLabel = np.random.choice(semantics),\n",
    "                                 cov = cov)\n",
    "\n",
    "priorMap = map.map(landmarks)\n",
    "priorMap.plot(plotIndex = True,plotCov = True)"
   ]
  },
  {
   "cell_type": "markdown",
   "metadata": {},
   "source": [
    "# unitTest 3: Move car and check landmark measurements"
   ]
  },
  {
   "cell_type": "code",
   "execution_count": 2,
   "metadata": {},
   "outputs": [
    {
     "ename": "NameError",
     "evalue": "name 'sigMin' is not defined",
     "output_type": "error",
     "traceback": [
      "\u001b[0;31m---------------------------------------------------------------------------\u001b[0m",
      "\u001b[0;31mNameError\u001b[0m                                 Traceback (most recent call last)",
      "\u001b[1;32m/home/alon18/repos/smallslam/test.ipynb Cell 7'\u001b[0m in \u001b[0;36m<module>\u001b[0;34m\u001b[0m\n\u001b[1;32m     <a href='vscode-notebook-cell:/home/alon18/repos/smallslam/test.ipynb#ch0000014?line=9'>10</a>\u001b[0m landmarks \u001b[39m=\u001b[39m [\u001b[39mNone\u001b[39;00m] \u001b[39m*\u001b[39m N\n\u001b[1;32m     <a href='vscode-notebook-cell:/home/alon18/repos/smallslam/test.ipynb#ch0000014?line=10'>11</a>\u001b[0m \u001b[39mfor\u001b[39;00m ii \u001b[39min\u001b[39;00m \u001b[39mrange\u001b[39m(N):\n\u001b[0;32m---> <a href='vscode-notebook-cell:/home/alon18/repos/smallslam/test.ipynb#ch0000014?line=11'>12</a>\u001b[0m     sigs \u001b[39m=\u001b[39m np\u001b[39m.\u001b[39mrandom\u001b[39m.\u001b[39muniform(low\u001b[39m=\u001b[39msigMin, high\u001b[39m=\u001b[39msigMax, size\u001b[39m=\u001b[39m(\u001b[39m2\u001b[39m,\u001b[39m2\u001b[39m))\n\u001b[1;32m     <a href='vscode-notebook-cell:/home/alon18/repos/smallslam/test.ipynb#ch0000014?line=12'>13</a>\u001b[0m     cov \u001b[39m=\u001b[39m sigs\u001b[39m@sigs\u001b[39m\u001b[39m.\u001b[39mT \u001b[39m#enforce symmetric and positive definite: https://mathworld.wolfram.com/PositiveDefiniteMatrix.html\u001b[39;00m\n\u001b[1;32m     <a href='vscode-notebook-cell:/home/alon18/repos/smallslam/test.ipynb#ch0000014?line=13'>14</a>\u001b[0m     landmarks[ii] \u001b[39m=\u001b[39m \u001b[39mmap\u001b[39m\u001b[39m.\u001b[39mlandmark(x \u001b[39m=\u001b[39m (np\u001b[39m.\u001b[39mrandom\u001b[39m.\u001b[39mrand()\u001b[39m-\u001b[39m\u001b[39m0.5\u001b[39m) \u001b[39m*\u001b[39m np\u001b[39m.\u001b[39mdiff(xrange) \u001b[39m+\u001b[39m np\u001b[39m.\u001b[39mmean(xrange),\n\u001b[1;32m     <a href='vscode-notebook-cell:/home/alon18/repos/smallslam/test.ipynb#ch0000014?line=14'>15</a>\u001b[0m                                  y \u001b[39m=\u001b[39m (np\u001b[39m.\u001b[39mrandom\u001b[39m.\u001b[39mrand()\u001b[39m-\u001b[39m\u001b[39m0.5\u001b[39m) \u001b[39m*\u001b[39m np\u001b[39m.\u001b[39mdiff(yrange) \u001b[39m+\u001b[39m np\u001b[39m.\u001b[39mmean(yrange),\n\u001b[1;32m     <a href='vscode-notebook-cell:/home/alon18/repos/smallslam/test.ipynb#ch0000014?line=15'>16</a>\u001b[0m                                  classLabel \u001b[39m=\u001b[39m np\u001b[39m.\u001b[39mrandom\u001b[39m.\u001b[39mchoice(semantics),\n\u001b[1;32m     <a href='vscode-notebook-cell:/home/alon18/repos/smallslam/test.ipynb#ch0000014?line=16'>17</a>\u001b[0m                                  cov \u001b[39m=\u001b[39m cov)\n",
      "\u001b[0;31mNameError\u001b[0m: name 'sigMin' is not defined"
     ]
    }
   ],
   "source": [
    "#------Build worldmap\n",
    "fig , ax = utils.setWorldMap()\n",
    "np.random.seed(seed=0)\n",
    "\n",
    "N = 10 #number of landmarks\n",
    "semantics = (\"table\",\"MEP\",\"chair\",\"pillar\",\"clutter\")\n",
    "xrange = (-2,2)\n",
    "yrange = (-1,3)\n",
    "\n",
    "landmarks = [None] * N\n",
    "for ii in range(N):\n",
    "    landmarks[ii] = map.landmark(x = (np.random.rand()-0.5) * np.diff(xrange) + np.mean(xrange),\n",
    "                                 y = (np.random.rand()-0.5) * np.diff(yrange) + np.mean(yrange),\n",
    "                                 classLabel = np.random.choice(semantics),\n",
    "                                 )\n",
    "worldMap = map.map(landmarks)\n",
    "worldMap.plot(ax = ax, plotIndex = True,plotCov = False)\n",
    "\n",
    "#------Spawn Robot\n",
    "car = robot.robot()\n",
    "#control inputs\n",
    "dr = 0.4 #[m]\n",
    "dtheta = np.radians(20)\n",
    "odom = (dr,dtheta)\n",
    "\n",
    "#------Simulation parameters\n",
    "time = 0 #[s]\n",
    "dt = 0.5 \n",
    "timeFinal = 10\n",
    "\n",
    "#init history loggers\n",
    "hist_GT = np.array(car.pose)\n",
    "hist_DR = hist_GT.copy()\n",
    "hist_LM = []\n",
    "\n",
    "#set graphics\n",
    "graphic_GT_traj, = plt.plot([], [],'ko-',markersize = 5)\n",
    "graphic_DR_traj, = plt.plot([], [],'ro-',markersize = 5)\n",
    "\n",
    "#run and plot simulation\n",
    "xcurrent_DR = hist_GT.copy()\n",
    "while time <= timeFinal:\n",
    "    meas_odom = car.moveAndMeasureOdometrey((dr,dtheta))\n",
    "\n",
    "    meas_lm = car.measureLandmarks(worldMap)\n",
    "\n",
    "    #dead reckoning integration\n",
    "    xcurrent_DR[2] += meas_odom.dtheta #update angle\n",
    "    xcurrent_DR[0] += meas_odom.dr * np.cos(xcurrent_DR[2])\n",
    "    xcurrent_DR[1] += meas_odom.dr * np.sin(xcurrent_DR[2])\n",
    "    \n",
    "    #log history\n",
    "    hist_GT = np.vstack([hist_GT,car.pose])\n",
    "    hist_DR = np.vstack([hist_DR,xcurrent_DR])\n",
    "    hist_LM.append(meas_lm)\n",
    "\n",
    "    #increase time\n",
    "    time += dt\n",
    "\n",
    "    #plot\n",
    "    graphic_GT_traj.set_data(hist_GT[:,0],hist_GT[:,1])\n",
    "    graphic_DR_traj.set_data(hist_DR[:,0],hist_DR[:,1])\n",
    "    plt.draw()\n",
    "    plt.pause(dt)"
   ]
  },
  {
   "cell_type": "code",
   "execution_count": 6,
   "metadata": {},
   "outputs": [
    {
     "data": {
      "text/plain": [
       "[[],\n",
       " [],\n",
       " [[1.0701594120895108, -0.20295693106980556, 'clutter', 4]],\n",
       " [[0.36536309674958245, -0.09733431111698528, 'pillar', 5]],\n",
       " [[0.33089461050639296, -2.470397454531601, 'MEP', 1],\n",
       "  [0.5876808646401244, -1.0058183858368215, 'pillar', 5]],\n",
       " [[0.49181304155054434, -3.1230007940713844, 'chair', 0],\n",
       "  [0.8993851129131344, -1.865928148787276, 'MEP', 1],\n",
       "  [0.9160159379531105, -0.9827685310844555, 'pillar', 5]],\n",
       " [[0.2908421184647328, -2.1505909583930687, 'chair', 0],\n",
       "  [1.075850553754783, -1.4709132717962412, 'MEP', 1],\n",
       "  [0.8356567069957432, -2.4798922130369676, 'MEP', 2],\n",
       "  [0.7100949996643591, 0.36730931626650826, 'MEP', 9]],\n",
       " [[0.40112822861516795, -1.1471481284451788, 'chair', 0],\n",
       "  [0.6246505515563463, -1.9494868475510958, 'MEP', 2]],\n",
       " [[0.6319737505208072, -0.5803367436685772, 'chair', 0],\n",
       "  [0.6403603688312429, -1.4953398417943724, 'MEP', 2],\n",
       "  [0.7972255812874691, 0.5956145770660458, 'clutter', 6]],\n",
       " [[0.6589328374272743, -0.8804567566677903, 'MEP', 2],\n",
       "  [0.6157443067256247, 0.6723867391497966, 'MEP', 3]],\n",
       " [[0.847371487075228, -0.3794358981534658, 'MEP', 2]],\n",
       " [[0.887753599475124, 0.05936529345040211, 'MEP', 2]],\n",
       " [],\n",
       " [],\n",
       " [],\n",
       " [],\n",
       " [],\n",
       " [],\n",
       " [],\n",
       " [],\n",
       " [[0.8869803774237554, -0.15411685672058892, 'clutter', 4]]]"
      ]
     },
     "execution_count": 6,
     "metadata": {},
     "output_type": "execute_result"
    }
   ],
   "source": [
    "hist_LM"
   ]
  }
 ],
 "metadata": {
  "interpreter": {
   "hash": "30d3d2a437c141a2ca155708e77ef0fb47f3bb6e3e8e854aeca73371a2a95d1c"
  },
  "kernelspec": {
   "display_name": "Python 3.9.10 ('smallslam')",
   "language": "python",
   "name": "python3"
  },
  "language_info": {
   "codemirror_mode": {
    "name": "ipython",
    "version": 3
   },
   "file_extension": ".py",
   "mimetype": "text/x-python",
   "name": "python",
   "nbconvert_exporter": "python",
   "pygments_lexer": "ipython3",
   "version": "3.9.10"
  },
  "orig_nbformat": 4
 },
 "nbformat": 4,
 "nbformat_minor": 2
}
