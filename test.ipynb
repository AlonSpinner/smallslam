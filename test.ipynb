{
 "cells": [
  {
   "cell_type": "code",
   "execution_count": 2,
   "metadata": {},
   "outputs": [],
   "source": [
    "import robot\n",
    "import map\n",
    "\n",
    "import numpy as np\n",
    "import gtsam\n",
    "import matplotlib.pyplot as plt\n",
    "import random\n",
    "\n",
    "%matplotlib qt"
   ]
  },
  {
   "cell_type": "markdown",
   "metadata": {},
   "source": [
    "## Move robot"
   ]
  },
  {
   "cell_type": "code",
   "execution_count": 2,
   "metadata": {},
   "outputs": [],
   "source": [
    "car = robot.robot()\n",
    "\n",
    "#control inputs\n",
    "dr = 0.4 #[m]\n",
    "dtheta = np.radians(20)\n",
    "\n",
    "time = 0 #[s]\n",
    "dt = 0.5 \n",
    "timeFinal = 10\n",
    "\n",
    "#keep history\n",
    "hist_GT = np.array(car.pose)\n",
    "hist_DR = hist_GT.copy()\n",
    "\n",
    "with plt.ion():\n",
    "    #set graphics\n",
    "    fig = plt.figure()\n",
    "    ax = fig.add_subplot(111)\n",
    "    ax.set_xlim(-2,2); ax.set_ylim(-1,3); \n",
    "    ax.set_xlabel('x'); ax.set_ylabel('y'); \n",
    "    ax.set_aspect('equal'); ax.grid()\n",
    "    graphic_GT_traj, = plt.plot([], [],'ko-',markersize = 5)\n",
    "    graphic_DR_traj, = plt.plot([], [],'ro-',markersize = 5)\n",
    "    ax.legend([\"ground truth\",\"dead reckoning\"])\n",
    "\n",
    "    #run and plot simulation\n",
    "    xcurrent_DR = hist_GT.copy()\n",
    "    while time <= timeFinal:\n",
    "        meas_dr,meas_dtheta = car.moveAndMeasureOdometrey((dr,dtheta))\n",
    "        \n",
    "        #dead reckoning integration\n",
    "        xcurrent_DR[2] += meas_dtheta #update angle\n",
    "        xcurrent_DR[0] += meas_dr * np.cos(xcurrent_DR[2])\n",
    "        xcurrent_DR[1] += meas_dr * np.sin(xcurrent_DR[2])\n",
    "        \n",
    "        #log history\n",
    "        hist_DR = np.vstack([hist_DR,xcurrent_DR])\n",
    "        hist_GT = np.vstack([hist_GT,car.pose])\n",
    "\n",
    "        #increase time\n",
    "        time += dt\n",
    "\n",
    "        #plot\n",
    "        graphic_GT_traj.set_data(hist_GT[:,0],hist_GT[:,1])\n",
    "        graphic_DR_traj.set_data(hist_DR[:,0],hist_DR[:,1])\n",
    "        plt.draw()\n",
    "        plt.pause(0.01)"
   ]
  },
  {
   "cell_type": "markdown",
   "metadata": {},
   "source": [
    "## World Landmarks"
   ]
  },
  {
   "cell_type": "code",
   "execution_count": 9,
   "metadata": {},
   "outputs": [],
   "source": [
    "np.random.seed(seed=5)\n",
    "\n",
    "N = 10 #number of landmarks\n",
    "semantics = (\"table\",\"MEP\",\"chair\",\"pillar\",\"clutter\")\n",
    "xrange = (-2,2)\n",
    "yrange = (-1,3)\n",
    "sigMin = -0.5\n",
    "sigMax = 0.5\n",
    "\n",
    "landmarks = [None] * N\n",
    "for ii in range(N):\n",
    "    landmarks[ii] = {\n",
    "                    'x':(np.random.rand()-0.5) * np.diff(xrange) + np.mean(xrange),\n",
    "                    'y':(np.random.rand()-0.5) * np.diff(yrange) + np.mean(yrange),\n",
    "                    'classLabel':random.choice(semantics),\n",
    "                    }\n",
    "    sigs = np.random.uniform(low=sigMin, high=sigMax, size=(2,2))\n",
    "    cov = sigs@sigs.T #enforce symmetric and positive definite: https://mathworld.wolfram.com/PositiveDefiniteMatrix.html\n",
    "    landmarks[ii]['cov'] = cov\n",
    "\n",
    "priorMap = map.map(landmarks)\n",
    "priorMap.plot(plotIndex = True)"
   ]
  },
  {
   "cell_type": "code",
   "execution_count": 4,
   "metadata": {},
   "outputs": [
    {
     "data": {
      "text/plain": [
       "array([[ 0.08601365, -0.0048512 ],\n",
       "       [-0.0048512 ,  0.01248669]])"
      ]
     },
     "execution_count": 4,
     "metadata": {},
     "output_type": "execute_result"
    }
   ],
   "source": [
    "cov"
   ]
  }
 ],
 "metadata": {
  "interpreter": {
   "hash": "30d3d2a437c141a2ca155708e77ef0fb47f3bb6e3e8e854aeca73371a2a95d1c"
  },
  "kernelspec": {
   "display_name": "Python 3.9.10 ('smallslam')",
   "language": "python",
   "name": "python3"
  },
  "language_info": {
   "codemirror_mode": {
    "name": "ipython",
    "version": 3
   },
   "file_extension": ".py",
   "mimetype": "text/x-python",
   "name": "python",
   "nbconvert_exporter": "python",
   "pygments_lexer": "ipython3",
   "version": "3.9.10"
  },
  "orig_nbformat": 4
 },
 "nbformat": 4,
 "nbformat_minor": 2
}
