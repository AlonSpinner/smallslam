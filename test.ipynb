{
 "cells": [
  {
   "cell_type": "code",
   "execution_count": 1,
   "metadata": {},
   "outputs": [],
   "source": [
    "import robot\n",
    "import map\n",
    "import utils\n",
    "\n",
    "import numpy as np\n",
    "import gtsam\n",
    "import matplotlib.pyplot as plt\n",
    "\n",
    "%matplotlib qt"
   ]
  },
  {
   "cell_type": "markdown",
   "metadata": {},
   "source": [
    "# unitTest 1: Move robot and check odometrey measurements"
   ]
  },
  {
   "cell_type": "code",
   "execution_count": 4,
   "metadata": {},
   "outputs": [],
   "source": [
    "car = robot.robot()\n",
    "\n",
    "#control inputs\n",
    "dr = 0.4 #[m]\n",
    "dtheta = np.radians(20)\n",
    "\n",
    "time = 0 #[s]\n",
    "dt = 0.5 \n",
    "timeFinal = 10\n",
    "\n",
    "#init history loggers\n",
    "hist_GT = np.array(car.pose)\n",
    "hist_DR = hist_GT.copy()\n",
    "\n",
    "#set graphics\n",
    "fig , ax = utils.setWorldMap()\n",
    "graphic_GT_traj, = plt.plot([], [],'ko-',markersize = 5)\n",
    "graphic_DR_traj, = plt.plot([], [],'ro-',markersize = 5)\n",
    "ax.legend([\"ground truth\",\"dead reckoning\"])\n",
    "\n",
    "#run and plot simulation\n",
    "xcurrent_DR = hist_GT.copy()\n",
    "while time <= timeFinal:\n",
    "    meas_odom = car.moveAndMeasureOdometrey((dr,dtheta))\n",
    "    \n",
    "    #dead reckoning integration\n",
    "    xcurrent_DR[2] += meas_odom.dtheta #update angle\n",
    "    xcurrent_DR[0] += meas_odom.dr * np.cos(xcurrent_DR[2])\n",
    "    xcurrent_DR[1] += meas_odom.dr * np.sin(xcurrent_DR[2])\n",
    "    \n",
    "    #log history\n",
    "    hist_DR = np.vstack([hist_DR,xcurrent_DR])\n",
    "    hist_GT = np.vstack([hist_GT,car.pose])\n",
    "\n",
    "    #increase time\n",
    "    time += dt\n",
    "\n",
    "    #plot\n",
    "    graphic_GT_traj.set_data(hist_GT[:,0],hist_GT[:,1])\n",
    "    graphic_DR_traj.set_data(hist_DR[:,0],hist_DR[:,1])\n",
    "    plt.draw()\n",
    "    plt.pause(dt)"
   ]
  },
  {
   "cell_type": "markdown",
   "metadata": {},
   "source": [
    "# unitTest 2: Build prior map"
   ]
  },
  {
   "cell_type": "code",
   "execution_count": 5,
   "metadata": {},
   "outputs": [],
   "source": [
    "np.random.seed(seed=2)\n",
    "\n",
    "N = 10 #number of landmarks\n",
    "semantics = (\"table\",\"MEP\",\"chair\",\"pillar\",\"clutter\")\n",
    "xrange = (-2,2)\n",
    "yrange = (-1,3)\n",
    "sigMin = -0.5\n",
    "sigMax = 0.5\n",
    "\n",
    "landmarks = [None] * N\n",
    "for ii in range(N):\n",
    "    sigs = np.random.uniform(low=sigMin, high=sigMax, size=(2,2))\n",
    "    cov = sigs@sigs.T #enforce symmetric and positive definite: https://mathworld.wolfram.com/PositiveDefiniteMatrix.html\n",
    "    landmarks[ii] = map.landmark(x = (np.random.rand()-0.5) * np.diff(xrange) + np.mean(xrange),\n",
    "                                 y = (np.random.rand()-0.5) * np.diff(yrange) + np.mean(yrange),\n",
    "                                 classLabel = np.random.choice(semantics),\n",
    "                                 cov = cov)\n",
    "\n",
    "priorMap = map.map(landmarks)\n",
    "priorMap.plot(plotIndex = True,plotCov = True)"
   ]
  },
  {
   "cell_type": "markdown",
   "metadata": {},
   "source": [
    "# unitTest 3: Move car and check landmark measurements"
   ]
  },
  {
   "cell_type": "code",
   "execution_count": null,
   "metadata": {},
   "outputs": [],
   "source": [
    "#------Build worldmap\n",
    "fig , ax = utils.setWorldMap()\n",
    "np.random.seed(seed=0)\n",
    "\n",
    "N = 10 #number of landmarks\n",
    "semantics = (\"table\",\"MEP\",\"chair\",\"pillar\",\"clutter\")\n",
    "xrange = (-2,2)\n",
    "yrange = (-1,3)\n",
    "\n",
    "landmarks = [None] * N\n",
    "for ii in range(N):\n",
    "    landmarks[ii] = map.landmark(x = (np.random.rand()-0.5) * np.diff(xrange) + np.mean(xrange),\n",
    "                                 y = (np.random.rand()-0.5) * np.diff(yrange) + np.mean(yrange),\n",
    "                                 classLabel = np.random.choice(semantics),\n",
    "                                 )\n",
    "worldMap = map.map(landmarks)\n",
    "worldMap.plot(ax = ax, plotIndex = True,plotCov = False)\n",
    "\n",
    "#------Spawn Robot\n",
    "car = robot.robot()\n",
    "#control inputs\n",
    "dr = 0.4 #[m]\n",
    "dtheta = np.radians(20)\n",
    "odom = (dr,dtheta)\n",
    "\n",
    "#------Simulation parameters\n",
    "time = 0 #[s]\n",
    "dt = 0.5 \n",
    "timeFinal = 10\n",
    "\n",
    "#init history loggers\n",
    "hist_GT = np.array(car.pose)\n",
    "hist_DR = hist_GT.copy()\n",
    "hist_LM = []\n",
    "\n",
    "#set graphics\n",
    "graphic_GT_traj, = plt.plot([], [],'ko-',markersize = 5)\n",
    "graphic_DR_traj, = plt.plot([], [],'ro-',markersize = 5)\n",
    "\n",
    "#run and plot simulation\n",
    "xcurrent_DR = hist_GT.copy()\n",
    "while time <= timeFinal:\n",
    "    meas_odom = car.moveAndMeasureOdometrey((dr,dtheta))\n",
    "\n",
    "    meas_lm = car.measureLandmarks(worldMap)\n",
    "\n",
    "    #dead reckoning integration\n",
    "    xcurrent_DR[2] += meas_odom.dtheta #update angle\n",
    "    xcurrent_DR[0] += meas_odom.dr * np.cos(xcurrent_DR[2])\n",
    "    xcurrent_DR[1] += meas_odom.dr * np.sin(xcurrent_DR[2])\n",
    "    \n",
    "    #log history\n",
    "    hist_GT = np.vstack([hist_GT,car.pose])\n",
    "    hist_DR = np.vstack([hist_DR,xcurrent_DR])\n",
    "    hist_LM.append(meas_lm)\n",
    "\n",
    "    #increase time\n",
    "    time += dt\n",
    "\n",
    "    #plot\n",
    "    graphic_GT_traj.set_data(hist_GT[:,0],hist_GT[:,1])\n",
    "    graphic_DR_traj.set_data(hist_DR[:,0],hist_DR[:,1])\n",
    "    plt.draw()\n",
    "    plt.pause(dt)\n",
    "\n",
    "print(hist_LM)"
   ]
  },
  {
   "cell_type": "markdown",
   "metadata": {},
   "source": [
    "# unitTest4: Plot Robot Cone"
   ]
  },
  {
   "cell_type": "code",
   "execution_count": null,
   "metadata": {},
   "outputs": [],
   "source": [
    "#------Build worldmap\n",
    "fig , ax = utils.setWorldMap()\n",
    "np.random.seed(seed=0)\n",
    "\n",
    "#------Spawn Robot\n",
    "car = robot.robot()\n",
    "car.plot(ax)\n",
    "#control inputs\n",
    "dr = 0.4 #[m]\n",
    "dtheta = np.radians(20)\n",
    "odom = (dr,dtheta)\n",
    "\n",
    "#------Simulation parameters\n",
    "time = 0 #[s]\n",
    "dt = 0.5 \n",
    "timeFinal = 10\n",
    "\n",
    "while time <= timeFinal:\n",
    "    car.moveAndMeasureOdometrey((dr,dtheta))\n",
    "\n",
    "    #increase time\n",
    "    time += dt\n",
    "\n",
    "    car.plot()\n",
    "    plt.draw()\n",
    "    plt.pause(dt)"
   ]
  },
  {
   "cell_type": "markdown",
   "metadata": {},
   "source": [
    "# unitTest5: putting everything together before gtsam"
   ]
  },
  {
   "cell_type": "code",
   "execution_count": 3,
   "metadata": {},
   "outputs": [
    {
     "name": "stdout",
     "output_type": "stream",
     "text": [
      "[<robot.meas_landmark object at 0x7f5da4e00430>, <robot.meas_landmark object at 0x7f5da4e00310>, <robot.meas_landmark object at 0x7f5da4e002e0>, <robot.meas_landmark object at 0x7f5da4e00400>, <robot.meas_landmark object at 0x7f5dac037340>, <robot.meas_landmark object at 0x7f5dac037c40>, <robot.meas_landmark object at 0x7f5dac0372e0>, <robot.meas_landmark object at 0x7f5da4e27040>]\n"
     ]
    }
   ],
   "source": [
    "car, worldMap, ax, fig = utils.default_world()\n",
    "prms = utils.default_parameters()\n",
    "\n",
    "#init history loggers\n",
    "hist_GT = np.array(car.pose)\n",
    "hist_DR = hist_GT.copy()\n",
    "hist_LM = []\n",
    "\n",
    "#set graphics\n",
    "graphic_GT_traj, = plt.plot([], [],'ko-',markersize = 1)\n",
    "graphic_DR_traj, = plt.plot([], [],'ro-',markersize = 1)\n",
    "\n",
    "#run and plot simulation\n",
    "time = 0\n",
    "xcurrent_DR = hist_GT.copy()\n",
    "while time <= prms[\"time\"][\"timeFinal\"]:\n",
    "    meas_odom = car.moveAndMeasureOdometrey((prms[\"odom\"][\"dr\"],prms[\"odom\"][\"dtheta\"]))\n",
    "\n",
    "    meas_lm = car.measureLandmarks(worldMap)\n",
    "\n",
    "    #dead reckoning integration\n",
    "    xcurrent_DR[2] += meas_odom.dtheta #update angle\n",
    "    xcurrent_DR[0] += meas_odom.dr * np.cos(xcurrent_DR[2])\n",
    "    xcurrent_DR[1] += meas_odom.dr * np.sin(xcurrent_DR[2])\n",
    "    \n",
    "    #log history\n",
    "    hist_GT = np.vstack([hist_GT,car.pose])\n",
    "    hist_DR = np.vstack([hist_DR,xcurrent_DR])\n",
    "    hist_LM.append(meas_lm)\n",
    "\n",
    "    #increase time\n",
    "    time += prms[\"time\"][\"dt\"]\n",
    "\n",
    "    #plot\n",
    "    car.plot()\n",
    "    graphic_GT_traj.set_data(hist_GT[:,0],hist_GT[:,1])\n",
    "    graphic_DR_traj.set_data(hist_DR[:,0],hist_DR[:,1])\n",
    "    plt.draw()\n",
    "    plt.pause(prms[\"time\"][\"dt\"])\n",
    "\n",
    "print(hist_LM[0])"
   ]
  }
 ],
 "metadata": {
  "interpreter": {
   "hash": "30d3d2a437c141a2ca155708e77ef0fb47f3bb6e3e8e854aeca73371a2a95d1c"
  },
  "kernelspec": {
   "display_name": "Python 3.9.10 ('smallslam')",
   "language": "python",
   "name": "python3"
  },
  "language_info": {
   "codemirror_mode": {
    "name": "ipython",
    "version": 3
   },
   "file_extension": ".py",
   "mimetype": "text/x-python",
   "name": "python",
   "nbconvert_exporter": "python",
   "pygments_lexer": "ipython3",
   "version": "3.9.10"
  },
  "orig_nbformat": 4
 },
 "nbformat": 4,
 "nbformat_minor": 2
}
