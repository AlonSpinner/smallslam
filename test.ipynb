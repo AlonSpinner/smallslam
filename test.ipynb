{
 "cells": [
  {
   "cell_type": "code",
   "execution_count": 1,
   "metadata": {},
   "outputs": [],
   "source": [
    "import robot\n",
    "import map\n",
    "\n",
    "import numpy as np\n",
    "import gtsam\n",
    "import matplotlib.pyplot as plt\n",
    "import random\n",
    "\n",
    "%matplotlib qt"
   ]
  },
  {
   "cell_type": "markdown",
   "metadata": {},
   "source": [
    "## Move robot"
   ]
  },
  {
   "cell_type": "code",
   "execution_count": 2,
   "metadata": {},
   "outputs": [],
   "source": [
    "car = robot.robot()\n",
    "\n",
    "#control inputs\n",
    "dr = 0.4 #[m]\n",
    "dtheta = np.radians(20)\n",
    "\n",
    "time = 0 #[s]\n",
    "dt = 0.5 \n",
    "timeFinal = 10\n",
    "\n",
    "#keep history\n",
    "hist_GT = np.array(car.pose)\n",
    "hist_DR = hist_GT.copy()\n",
    "\n",
    "with plt.ion():\n",
    "    #set graphics\n",
    "    fig = plt.figure()\n",
    "    ax = fig.add_subplot(111)\n",
    "    ax.set_xlim(-2,2); ax.set_ylim(-1,3); \n",
    "    ax.set_xlabel('x'); ax.set_ylabel('y'); \n",
    "    ax.set_aspect('equal'); ax.grid()\n",
    "    graphic_GT_traj, = plt.plot([], [],'ko-',markersize = 5)\n",
    "    graphic_DR_traj, = plt.plot([], [],'ro-',markersize = 5)\n",
    "    ax.legend([\"ground truth\",\"dead reckoning\"])\n",
    "\n",
    "    #run and plot simulation\n",
    "    xcurrent_DR = hist_GT.copy()\n",
    "    while time <= timeFinal:\n",
    "        meas_dr,meas_dtheta = car.moveAndMeasureOdometrey((dr,dtheta))\n",
    "        \n",
    "        #dead reckoning integration\n",
    "        xcurrent_DR[2] += meas_dtheta #update angle\n",
    "        xcurrent_DR[0] += meas_dr * np.cos(xcurrent_DR[2])\n",
    "        xcurrent_DR[1] += meas_dr * np.sin(xcurrent_DR[2])\n",
    "        \n",
    "        #log history\n",
    "        hist_DR = np.vstack([hist_DR,xcurrent_DR])\n",
    "        hist_GT = np.vstack([hist_GT,car.pose])\n",
    "\n",
    "        #increase time\n",
    "        time += dt\n",
    "\n",
    "        #plot\n",
    "        graphic_GT_traj.set_data(hist_GT[:,0],hist_GT[:,1])\n",
    "        graphic_DR_traj.set_data(hist_DR[:,0],hist_DR[:,1])\n",
    "        plt.draw()\n",
    "        plt.pause(0.01)"
   ]
  },
  {
   "cell_type": "markdown",
   "metadata": {},
   "source": [
    "## World Landmarks"
   ]
  },
  {
   "cell_type": "code",
   "execution_count": 2,
   "metadata": {},
   "outputs": [
    {
     "ename": "ValueError",
     "evalue": "The truth value of an array with more than one element is ambiguous. Use a.any() or a.all()",
     "output_type": "error",
     "traceback": [
      "\u001b[0;31m---------------------------------------------------------------------------\u001b[0m",
      "\u001b[0;31mValueError\u001b[0m                                Traceback (most recent call last)",
      "\u001b[1;32m/home/alon18/repos/smallslam/test.ipynb Cell 5'\u001b[0m in \u001b[0;36m<module>\u001b[0;34m\u001b[0m\n\u001b[1;32m     <a href='vscode-notebook-cell:/home/alon18/repos/smallslam/test.ipynb#ch0000004?line=18'>19</a>\u001b[0m     landmarks[ii][\u001b[39m'\u001b[39m\u001b[39mcov\u001b[39m\u001b[39m'\u001b[39m] \u001b[39m=\u001b[39m cov\n\u001b[1;32m     <a href='vscode-notebook-cell:/home/alon18/repos/smallslam/test.ipynb#ch0000004?line=20'>21</a>\u001b[0m priorMap \u001b[39m=\u001b[39m \u001b[39mmap\u001b[39m\u001b[39m.\u001b[39mmap(landmarks)\n\u001b[0;32m---> <a href='vscode-notebook-cell:/home/alon18/repos/smallslam/test.ipynb#ch0000004?line=21'>22</a>\u001b[0m priorMap\u001b[39m.\u001b[39;49mplot(plotIndex \u001b[39m=\u001b[39;49m \u001b[39mTrue\u001b[39;49;00m,plotCov \u001b[39m=\u001b[39;49m \u001b[39mTrue\u001b[39;49;00m)\n",
      "File \u001b[0;32m~/repos/smallslam/map.py:64\u001b[0m, in \u001b[0;36mmap.plot\u001b[0;34m(self, ax, plotIndex, plotCov)\u001b[0m\n\u001b[1;32m     <a href='file:///~/repos/smallslam/map.py?line=60'>61</a>\u001b[0m     ax\u001b[39m.\u001b[39mtext(lm[\u001b[39m\"\u001b[39m\u001b[39mx\u001b[39m\u001b[39m\"\u001b[39m],lm[\u001b[39m\"\u001b[39m\u001b[39my\u001b[39m\u001b[39m\"\u001b[39m],lm[\u001b[39m\"\u001b[39m\u001b[39mindex\u001b[39m\u001b[39m\"\u001b[39m])\n\u001b[1;32m     <a href='file:///~/repos/smallslam/map.py?line=62'>63</a>\u001b[0m \u001b[39mif\u001b[39;00m plotCov:\n\u001b[0;32m---> <a href='file:///~/repos/smallslam/map.py?line=63'>64</a>\u001b[0m     \u001b[39mif\u001b[39;00m \u001b[39mnot\u001b[39;00m(lm[\u001b[39m\"\u001b[39m\u001b[39mcov\u001b[39m\u001b[39m\"\u001b[39m]):\n\u001b[1;32m     <a href='file:///~/repos/smallslam/map.py?line=64'>65</a>\u001b[0m         \u001b[39mraise\u001b[39;00m \u001b[39mTypeError\u001b[39;00m(\u001b[39m\"\u001b[39m\u001b[39mlandmark has no covaraince attached\u001b[39m\u001b[39m\"\u001b[39m)\n\u001b[1;32m     <a href='file:///~/repos/smallslam/map.py?line=65'>66</a>\u001b[0m     \u001b[39mself\u001b[39m\u001b[39m.\u001b[39mplot_cov_ellipse(lm[\u001b[39m\"\u001b[39m\u001b[39mcov\u001b[39m\u001b[39m\"\u001b[39m],(lm[\u001b[39m\"\u001b[39m\u001b[39mx\u001b[39m\u001b[39m\"\u001b[39m],lm[\u001b[39m\"\u001b[39m\u001b[39my\u001b[39m\u001b[39m\"\u001b[39m]),nstd \u001b[39m=\u001b[39m \u001b[39m1\u001b[39m,ax \u001b[39m=\u001b[39m ax,edgecolor\u001b[39m=\u001b[39m\u001b[39mself\u001b[39m\u001b[39m.\u001b[39mcolors[ii]\u001b[39m.\u001b[39mreshape(\u001b[39m1\u001b[39m,\u001b[39m-\u001b[39m\u001b[39m1\u001b[39m))\n",
      "\u001b[0;31mValueError\u001b[0m: The truth value of an array with more than one element is ambiguous. Use a.any() or a.all()"
     ]
    }
   ],
   "source": [
    "np.random.seed(seed=5)\n",
    "\n",
    "N = 10 #number of landmarks\n",
    "semantics = (\"table\",\"MEP\",\"chair\",\"pillar\",\"clutter\")\n",
    "xrange = (-2,2)\n",
    "yrange = (-1,3)\n",
    "sigMin = -0.5\n",
    "sigMax = 0.5\n",
    "\n",
    "landmarks = [None] * N\n",
    "for ii in range(N):\n",
    "    landmarks[ii] = {\n",
    "                    'x':(np.random.rand()-0.5) * np.diff(xrange) + np.mean(xrange),\n",
    "                    'y':(np.random.rand()-0.5) * np.diff(yrange) + np.mean(yrange),\n",
    "                    'classLabel':random.choice(semantics),\n",
    "                    }\n",
    "    sigs = np.random.uniform(low=sigMin, high=sigMax, size=(2,2))\n",
    "    cov = sigs@sigs.T #enforce symmetric and positive definite: https://mathworld.wolfram.com/PositiveDefiniteMatrix.html\n",
    "    landmarks[ii]['cov'] = cov\n",
    "\n",
    "priorMap = map.map(landmarks)\n",
    "priorMap.plot(plotIndex = True,plotCov = True)"
   ]
  }
 ],
 "metadata": {
  "interpreter": {
   "hash": "30d3d2a437c141a2ca155708e77ef0fb47f3bb6e3e8e854aeca73371a2a95d1c"
  },
  "kernelspec": {
   "display_name": "Python 3.9.10 ('smallslam')",
   "language": "python",
   "name": "python3"
  },
  "language_info": {
   "codemirror_mode": {
    "name": "ipython",
    "version": 3
   },
   "file_extension": ".py",
   "mimetype": "text/x-python",
   "name": "python",
   "nbconvert_exporter": "python",
   "pygments_lexer": "ipython3",
   "version": "3.9.10"
  },
  "orig_nbformat": 4
 },
 "nbformat": 4,
 "nbformat_minor": 2
}
