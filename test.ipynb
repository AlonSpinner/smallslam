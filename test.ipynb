{
 "cells": [
  {
   "cell_type": "code",
   "execution_count": 1,
   "metadata": {},
   "outputs": [],
   "source": [
    "import robot\n",
    "import map\n",
    "import solver\n",
    "import utils\n",
    "\n",
    "import numpy as np\n",
    "import matplotlib.pyplot as plt\n",
    "%matplotlib qt\n",
    "\n",
    "import gtsam\n",
    "from gtsam.symbol_shorthand import L, X"
   ]
  },
  {
   "cell_type": "markdown",
   "metadata": {},
   "source": [
    "# unitTest 1: Move robot and check odometrey measurements"
   ]
  },
  {
   "cell_type": "code",
   "execution_count": 2,
   "metadata": {},
   "outputs": [],
   "source": [
    "car = robot.robot()\n",
    "\n",
    "#control inputs\n",
    "dtheta = np.radians(20)\n",
    "ds = 0.4\n",
    "\n",
    "time = 0 #[s]\n",
    "dt = 0.5 \n",
    "timeFinal = 10\n",
    "\n",
    "#init history loggers\n",
    "hist_GT = np.array(car.pose)\n",
    "hist_DR = hist_GT.copy()\n",
    "\n",
    "#set graphics\n",
    "fig , ax = utils.setWorldMap()\n",
    "graphic_GT_traj, = plt.plot([], [],'ko-',markersize = 5)\n",
    "graphic_DR_traj, = plt.plot([], [],'ro-',markersize = 5)\n",
    "ax.legend([\"ground truth\",\"dead reckoning\"])\n",
    "\n",
    "#run and plot simulation\n",
    "xcurrent_DR = hist_GT.copy()\n",
    "with plt.ion():\n",
    "    while time <= timeFinal:\n",
    "        meas_odom = car.moveAndMeasureOdometrey((ds,ds,dtheta))\n",
    "        \n",
    "        #dead reckoning integration\n",
    "        xcurrent_DR[2] += meas_odom.dtheta\n",
    "        xcurrent_DR[0] += meas_odom.dx * np.cos(xcurrent_DR[2])\n",
    "        xcurrent_DR[1] += meas_odom.dy * np.sin(xcurrent_DR[2])\n",
    "        \n",
    "        #log history\n",
    "        hist_DR = np.vstack([hist_DR,xcurrent_DR])\n",
    "        hist_GT = np.vstack([hist_GT,car.pose])\n",
    "\n",
    "        #increase time\n",
    "        time += dt\n",
    "\n",
    "        #plot\n",
    "        graphic_GT_traj.set_data(hist_GT[:,0],hist_GT[:,1])\n",
    "        graphic_DR_traj.set_data(hist_DR[:,0],hist_DR[:,1])\n",
    "        plt.draw()\n",
    "        plt.pause(dt)"
   ]
  },
  {
   "cell_type": "markdown",
   "metadata": {},
   "source": [
    "# unitTest 2: Build prior map"
   ]
  },
  {
   "cell_type": "code",
   "execution_count": 5,
   "metadata": {},
   "outputs": [],
   "source": [
    "np.random.seed(seed=2)\n",
    "\n",
    "N = 10 #number of landmarks\n",
    "semantics = (\"table\",\"MEP\",\"chair\",\"pillar\",\"clutter\")\n",
    "xrange = (-2,2)\n",
    "yrange = (-1,3)\n",
    "sigMin = -0.5\n",
    "sigMax = 0.5\n",
    "\n",
    "landmarks = [None] * N\n",
    "for ii in range(N):\n",
    "    sigs = np.random.uniform(low=sigMin, high=sigMax, size=(2,2))\n",
    "    cov = sigs@sigs.T #enforce symmetric and positive definite: https://mathworld.wolfram.com/PositiveDefiniteMatrix.html\n",
    "    landmarks[ii] = map.landmark(x = (np.random.rand()-0.5) * np.diff(xrange) + np.mean(xrange),\n",
    "                                 y = (np.random.rand()-0.5) * np.diff(yrange) + np.mean(yrange),\n",
    "                                 classLabel = np.random.choice(semantics),\n",
    "                                 cov = cov)\n",
    "\n",
    "priorMap = map.map(landmarks)\n",
    "priorMap.plot(plotIndex = True,plotCov = True)"
   ]
  },
  {
   "cell_type": "markdown",
   "metadata": {},
   "source": [
    "# unitTest 3: Move car and check landmark measurements"
   ]
  },
  {
   "cell_type": "code",
   "execution_count": 7,
   "metadata": {},
   "outputs": [
    {
     "name": "stdout",
     "output_type": "stream",
     "text": [
      "[[], [], [<robot.meas_landmark object at 0x7f5b6e3857f0>], [<robot.meas_landmark object at 0x7f5b6e553100>], [<robot.meas_landmark object at 0x7f5b6de4ca90>, <robot.meas_landmark object at 0x7f5b6de54df0>], [<robot.meas_landmark object at 0x7f5b6de4c3a0>, <robot.meas_landmark object at 0x7f5b6e553700>, <robot.meas_landmark object at 0x7f5b6de0b3d0>], [<robot.meas_landmark object at 0x7f5b6e2f2eb0>, <robot.meas_landmark object at 0x7f5b7c308c10>, <robot.meas_landmark object at 0x7f5b6de13970>], [<robot.meas_landmark object at 0x7f5b6ddfec40>, <robot.meas_landmark object at 0x7f5b6de138e0>], [<robot.meas_landmark object at 0x7f5b6de6c460>, <robot.meas_landmark object at 0x7f5b6de13a00>], [<robot.meas_landmark object at 0x7f5b7c308160>], [], [], [], [], [], [], [], [], [], [], [<robot.meas_landmark object at 0x7f5b741ea220>]]\n"
     ]
    }
   ],
   "source": [
    "#------Build worldmap\n",
    "fig , ax = utils.setWorldMap()\n",
    "np.random.seed(seed=0)\n",
    "\n",
    "N = 10 #number of landmarks\n",
    "semantics = (\"table\",\"MEP\",\"chair\",\"pillar\",\"clutter\")\n",
    "xrange = (-2,2)\n",
    "yrange = (-1,3)\n",
    "\n",
    "landmarks = [None] * N\n",
    "for ii in range(N):\n",
    "    landmarks[ii] = map.landmark(x = (np.random.rand()-0.5) * np.diff(xrange) + np.mean(xrange),\n",
    "                                 y = (np.random.rand()-0.5) * np.diff(yrange) + np.mean(yrange),\n",
    "                                 classLabel = np.random.choice(semantics),\n",
    "                                 )\n",
    "worldMap = map.map(landmarks)\n",
    "worldMap.plot(ax = ax, plotIndex = True,plotCov = False)\n",
    "\n",
    "#------Spawn Robot\n",
    "car = robot.robot()\n",
    "#control inputs\n",
    "ds = 0.4 #[m]\n",
    "dtheta = np.radians(20)\n",
    "odom = (ds,ds,dtheta)\n",
    "\n",
    "#------Simulation parameters\n",
    "time = 0 #[s]\n",
    "dt = 0.5 \n",
    "timeFinal = 10\n",
    "\n",
    "#init history loggers\n",
    "hist_GT = np.array(car.pose)\n",
    "hist_DR = hist_GT.copy()\n",
    "hist_LM = []\n",
    "\n",
    "#set graphics\n",
    "graphic_GT_traj, = plt.plot([], [],'ko-',markersize = 5)\n",
    "graphic_DR_traj, = plt.plot([], [],'ro-',markersize = 5)\n",
    "\n",
    "#run and plot simulation\n",
    "xcurrent_DR = hist_GT.copy()\n",
    "with plt.ion():\n",
    "    while time <= timeFinal:\n",
    "        meas_odom = car.moveAndMeasureOdometrey(odom)\n",
    "\n",
    "        meas_lm = car.measureLandmarks(worldMap)\n",
    "\n",
    "        #dead reckoning integration\n",
    "        xcurrent_DR[2] += meas_odom.dtheta\n",
    "        xcurrent_DR[0] += meas_odom.dx * np.cos(xcurrent_DR[2])\n",
    "        xcurrent_DR[1] += meas_odom.dy * np.sin(xcurrent_DR[2])\n",
    "        \n",
    "        #log history\n",
    "        hist_GT = np.vstack([hist_GT,car.pose])\n",
    "        hist_DR = np.vstack([hist_DR,xcurrent_DR])\n",
    "        hist_LM.append(meas_lm)\n",
    "\n",
    "        #increase time\n",
    "        time += dt\n",
    "\n",
    "        #plot\n",
    "        graphic_GT_traj.set_data(hist_GT[:,0],hist_GT[:,1])\n",
    "        graphic_DR_traj.set_data(hist_DR[:,0],hist_DR[:,1])\n",
    "        plt.draw()\n",
    "        plt.pause(dt)\n",
    "\n",
    "print(hist_LM)"
   ]
  },
  {
   "cell_type": "markdown",
   "metadata": {},
   "source": [
    "# unitTest4: Plot Robot Cone"
   ]
  },
  {
   "cell_type": "code",
   "execution_count": 10,
   "metadata": {},
   "outputs": [],
   "source": [
    "#------Build worldmap\n",
    "fig , ax = utils.setWorldMap()\n",
    "np.random.seed(seed=0)\n",
    "\n",
    "#------Spawn Robot\n",
    "car = robot.robot()\n",
    "car.plot(ax)\n",
    "#control inputs\n",
    "ds = 0.4 #[m]\n",
    "dtheta = np.radians(20)\n",
    "odom = (ds,ds,dtheta)\n",
    "\n",
    "#------Simulation parameters\n",
    "time = 0 #[s]\n",
    "dt = 0.5 \n",
    "timeFinal = 10\n",
    "\n",
    "with plt.ion():\n",
    "    while time <= timeFinal:\n",
    "        car.moveAndMeasureOdometrey(odom)\n",
    "\n",
    "        #increase time\n",
    "        time += dt\n",
    "\n",
    "        car.plot()\n",
    "        plt.draw()\n",
    "        plt.pause(dt)"
   ]
  },
  {
   "cell_type": "markdown",
   "metadata": {},
   "source": [
    "# unitTest5: putting everything together before gtsam"
   ]
  },
  {
   "cell_type": "code",
   "execution_count": 3,
   "metadata": {},
   "outputs": [
    {
     "name": "stdout",
     "output_type": "stream",
     "text": [
      "[<robot.meas_landmark object at 0x7f8284487cd0>, <robot.meas_landmark object at 0x7f82842197f0>, <robot.meas_landmark object at 0x7f82842198e0>, <robot.meas_landmark object at 0x7f8284219940>, <robot.meas_landmark object at 0x7f82842199a0>, <robot.meas_landmark object at 0x7f8284219a00>, <robot.meas_landmark object at 0x7f8284219a60>, <robot.meas_landmark object at 0x7f8284219ac0>]\n",
      "[<robot.meas_landmark object at 0x7f8284219730>, <robot.meas_landmark object at 0x7f8284219be0>, <robot.meas_landmark object at 0x7f8284219ee0>, <robot.meas_landmark object at 0x7f8284219f70>, <robot.meas_landmark object at 0x7f8284219e80>, <robot.meas_landmark object at 0x7f8284219dc0>, <robot.meas_landmark object at 0x7f8284219fd0>]\n",
      "[<robot.meas_landmark object at 0x7f8284219b50>, <robot.meas_landmark object at 0x7f82844554c0>, <robot.meas_landmark object at 0x7f8284455520>, <robot.meas_landmark object at 0x7f82841dac70>, <robot.meas_landmark object at 0x7f82841dab80>, <robot.meas_landmark object at 0x7f82841ced60>]\n",
      "[<robot.meas_landmark object at 0x7f8284219e20>, <robot.meas_landmark object at 0x7f8284234430>, <robot.meas_landmark object at 0x7f8284234670>, <robot.meas_landmark object at 0x7f82841d40a0>, <robot.meas_landmark object at 0x7f82841d4070>, <robot.meas_landmark object at 0x7f82841d40d0>]\n",
      "[<robot.meas_landmark object at 0x7f82841dad00>, <robot.meas_landmark object at 0x7f82841ce1f0>, <robot.meas_landmark object at 0x7f82841cef40>, <robot.meas_landmark object at 0x7f828422fd60>, <robot.meas_landmark object at 0x7f82841c4a90>, <robot.meas_landmark object at 0x7f82841e0910>]\n",
      "[<robot.meas_landmark object at 0x7f82841ceca0>, <robot.meas_landmark object at 0x7f82841ceb80>, <robot.meas_landmark object at 0x7f82841ceb20>, <robot.meas_landmark object at 0x7f8284270490>, <robot.meas_landmark object at 0x7f828428d1f0>]\n",
      "[<robot.meas_landmark object at 0x7f828423ba90>, <robot.meas_landmark object at 0x7f828423b9a0>, <robot.meas_landmark object at 0x7f828423ba60>, <robot.meas_landmark object at 0x7f828423bf10>, <robot.meas_landmark object at 0x7f82841ce940>, <robot.meas_landmark object at 0x7f82841e0640>]\n",
      "[<robot.meas_landmark object at 0x7f8284270430>, <robot.meas_landmark object at 0x7f82841d4e20>, <robot.meas_landmark object at 0x7f82841e0790>, <robot.meas_landmark object at 0x7f82841e03a0>, <robot.meas_landmark object at 0x7f82841e0ac0>, <robot.meas_landmark object at 0x7f82841e0a60>]\n",
      "[<robot.meas_landmark object at 0x7f828423ba00>, <robot.meas_landmark object at 0x7f82841c4940>, <robot.meas_landmark object at 0x7f82841e0a90>, <robot.meas_landmark object at 0x7f82841e0c40>, <robot.meas_landmark object at 0x7f82841e0820>, <robot.meas_landmark object at 0x7f82841e0ca0>]\n",
      "[<robot.meas_landmark object at 0x7f8284270460>, <robot.meas_landmark object at 0x7f82841e07c0>, <robot.meas_landmark object at 0x7f82841e09d0>, <robot.meas_landmark object at 0x7f82841e08b0>, <robot.meas_landmark object at 0x7f82841e0c70>, <robot.meas_landmark object at 0x7f82841e0970>, <robot.meas_landmark object at 0x7f82841e0d00>, <robot.meas_landmark object at 0x7f82841e0d90>]\n",
      "[<robot.meas_landmark object at 0x7f82841e0f70>, <robot.meas_landmark object at 0x7f82841e0a00>, <robot.meas_landmark object at 0x7f82841e0be0>, <robot.meas_landmark object at 0x7f828423bf40>, <robot.meas_landmark object at 0x7f82841d4f70>, <robot.meas_landmark object at 0x7f82841fb1c0>, <robot.meas_landmark object at 0x7f82841fb160>, <robot.meas_landmark object at 0x7f82841fb250>]\n",
      "[<robot.meas_landmark object at 0x7f82841e02b0>, <robot.meas_landmark object at 0x7f82841dabe0>, <robot.meas_landmark object at 0x7f82841fb2b0>, <robot.meas_landmark object at 0x7f82841fb340>, <robot.meas_landmark object at 0x7f82841fb370>, <robot.meas_landmark object at 0x7f82841fb0d0>, <robot.meas_landmark object at 0x7f82841fb100>, <robot.meas_landmark object at 0x7f82841fb4c0>, <robot.meas_landmark object at 0x7f82841fb550>]\n",
      "[<robot.meas_landmark object at 0x7f82841e0b50>, <robot.meas_landmark object at 0x7f82841c47f0>, <robot.meas_landmark object at 0x7f82841fb610>, <robot.meas_landmark object at 0x7f82841fb670>, <robot.meas_landmark object at 0x7f82841fb8e0>, <robot.meas_landmark object at 0x7f82841fb940>, <robot.meas_landmark object at 0x7f82841fb490>, <robot.meas_landmark object at 0x7f82841fb7f0>]\n",
      "[<robot.meas_landmark object at 0x7f82841e0eb0>, <robot.meas_landmark object at 0x7f82841c4790>, <robot.meas_landmark object at 0x7f82841fb970>, <robot.meas_landmark object at 0x7f82841fb9a0>, <robot.meas_landmark object at 0x7f82841fb790>, <robot.meas_landmark object at 0x7f82841fb8b0>, <robot.meas_landmark object at 0x7f82841fb3a0>]\n",
      "[<robot.meas_landmark object at 0x7f82841e0190>, <robot.meas_landmark object at 0x7f82841fb760>, <robot.meas_landmark object at 0x7f82841fb7c0>, <robot.meas_landmark object at 0x7f82841fbb50>, <robot.meas_landmark object at 0x7f82841fbd30>, <robot.meas_landmark object at 0x7f82841fbaf0>, <robot.meas_landmark object at 0x7f82841fb070>]\n",
      "[<robot.meas_landmark object at 0x7f82841fbf10>, <robot.meas_landmark object at 0x7f82841fbc10>, <robot.meas_landmark object at 0x7f82841fbe20>, <robot.meas_landmark object at 0x7f82841fbf40>, <robot.meas_landmark object at 0x7f82841fbcd0>, <robot.meas_landmark object at 0x7f82841da3d0>, <robot.meas_landmark object at 0x7f82841c4580>, <robot.meas_landmark object at 0x7f828403d1c0>]\n",
      "[<robot.meas_landmark object at 0x7f82841fbe80>, <robot.meas_landmark object at 0x7f82841da0a0>, <robot.meas_landmark object at 0x7f828403d220>, <robot.meas_landmark object at 0x7f828403d280>, <robot.meas_landmark object at 0x7f828403d340>, <robot.meas_landmark object at 0x7f828403d130>, <robot.meas_landmark object at 0x7f828403d0d0>]\n",
      "[<robot.meas_landmark object at 0x7f82841fbac0>, <robot.meas_landmark object at 0x7f82841c4640>, <robot.meas_landmark object at 0x7f828403d430>, <robot.meas_landmark object at 0x7f828403d400>, <robot.meas_landmark object at 0x7f828403d2e0>, <robot.meas_landmark object at 0x7f828403d7c0>, <robot.meas_landmark object at 0x7f828403d640>]\n",
      "[<robot.meas_landmark object at 0x7f82841fbdf0>, <robot.meas_landmark object at 0x7f82841c4520>, <robot.meas_landmark object at 0x7f828403d8b0>, <robot.meas_landmark object at 0x7f828403d880>, <robot.meas_landmark object at 0x7f828403d610>, <robot.meas_landmark object at 0x7f828403da60>]\n",
      "[<robot.meas_landmark object at 0x7f82841fb460>, <robot.meas_landmark object at 0x7f82841c4430>, <robot.meas_landmark object at 0x7f828403d820>, <robot.meas_landmark object at 0x7f828403d700>, <robot.meas_landmark object at 0x7f828403dac0>, <robot.meas_landmark object at 0x7f828403dbb0>]\n",
      "[<robot.meas_landmark object at 0x7f82841fb700>, <robot.meas_landmark object at 0x7f828403d850>, <robot.meas_landmark object at 0x7f828403db50>, <robot.meas_landmark object at 0x7f828403daf0>, <robot.meas_landmark object at 0x7f828403da00>, <robot.meas_landmark object at 0x7f828403da30>]\n"
     ]
    }
   ],
   "source": [
    "car, worldMap, ax, fig = utils.default_world()\n",
    "prms = utils.default_parameters()\n",
    "\n",
    "#init history loggers\n",
    "hist_GT = np.array(car.pose)\n",
    "hist_DR = hist_GT.copy()\n",
    "hist_LM = []\n",
    "\n",
    "#set graphics\n",
    "graphic_GT_traj, = plt.plot([], [],'ko-',markersize = 1)\n",
    "graphic_DR_traj, = plt.plot([], [],'ro-',markersize = 1)\n",
    "\n",
    "#run and plot simulation\n",
    "time = 0\n",
    "xcurrent_DR = hist_GT.copy()\n",
    "with plt.ion():\n",
    "    while time <= prms[\"time\"][\"timeFinal\"]:\n",
    "        meas_odom = car.moveAndMeasureOdometrey(prms[\"odom\"])\n",
    "\n",
    "        meas_lm = car.measureLandmarks(worldMap)\n",
    "\n",
    "        #dead reckoning integration\n",
    "        xcurrent_DR[2] += meas_odom.dtheta\n",
    "        xcurrent_DR[0] += meas_odom.dx * np.cos(xcurrent_DR[2])\n",
    "        xcurrent_DR[1] += meas_odom.dy * np.sin(xcurrent_DR[2])\n",
    "\n",
    "        #log history\n",
    "        hist_GT = np.vstack([hist_GT,car.pose])\n",
    "        hist_DR = np.vstack([hist_DR,xcurrent_DR])\n",
    "        hist_LM.append(meas_lm)\n",
    "\n",
    "        #increase time\n",
    "        time += prms[\"time\"][\"dt\"]\n",
    "\n",
    "        #plot\n",
    "        car.plot()\n",
    "        graphic_GT_traj.set_data(hist_GT[:,0],hist_GT[:,1])\n",
    "        graphic_DR_traj.set_data(hist_DR[:,0],hist_DR[:,1])\n",
    "        plt.draw()\n",
    "        plt.pause(prms[\"time\"][\"dt\"])\n",
    "\n",
    "for _ in hist_LM:\n",
    "    print(_)"
   ]
  },
  {
   "cell_type": "markdown",
   "metadata": {},
   "source": [
    "# unitTest6 GTSAM\n",
    "\n",
    "notes: </br>\n",
    "examples folder: /home/alon18/LocalInstalls/miniconda3/envs/smallslam/lib/python3.9/site-packages/gtsam/examples </br>\n",
    "* imuFactorISAM2Example.py - understand difference between graph.add and graph.push_back </br>\n",
    "  + never mind, they are the same (?) https://gtsam.org/doxygen/a03480.html#a1bd7154e74538b5934fc616bb5ef7281 </br>\n",
    "* PlanarSLAMExample.py- factor for range and bearing </br>\n",
    "\n",
    "\n",
    "from VisualISAMExample.py: </br>\n",
    "      # If this is the first iteration, add a prior on the first pose to set the coordinate frame </br>\n",
    "        # and a prior on the first landmark to set the scale </br>\n",
    "        # Also, as iSAM solves incrementally, we must wait until each is observed at least twice before </br>\n",
    "        # adding it to iSAM. </br>"
   ]
  },
  {
   "cell_type": "code",
   "execution_count": 4,
   "metadata": {},
   "outputs": [
    {
     "ename": "RuntimeError",
     "evalue": "Attempting to add a key-value pair with key \"x0\", key already exists.",
     "output_type": "error",
     "traceback": [
      "\u001b[0;31m---------------------------------------------------------------------------\u001b[0m",
      "\u001b[0;31mRuntimeError\u001b[0m                              Traceback (most recent call last)",
      "\u001b[1;32m/home/alon18/Desktop/Link to repos/smallslam/test.ipynb Cell 13'\u001b[0m in \u001b[0;36m<module>\u001b[0;34m\u001b[0m\n\u001b[1;32m     <a href='vscode-notebook-cell:/home/alon18/Desktop/Link%20to%20repos/smallslam/test.ipynb#ch0000012?line=22'>23</a>\u001b[0m backend\u001b[39m.\u001b[39maddOdomMeasurement(meas_odom)\n\u001b[1;32m     <a href='vscode-notebook-cell:/home/alon18/Desktop/Link%20to%20repos/smallslam/test.ipynb#ch0000012?line=23'>24</a>\u001b[0m \u001b[39m#for meas_lm in meas_lms:\u001b[39;00m\n\u001b[1;32m     <a href='vscode-notebook-cell:/home/alon18/Desktop/Link%20to%20repos/smallslam/test.ipynb#ch0000012?line=24'>25</a>\u001b[0m \u001b[39m#    backend.addlandmarkMeasurement(meas_lm)\u001b[39;00m\n\u001b[0;32m---> <a href='vscode-notebook-cell:/home/alon18/Desktop/Link%20to%20repos/smallslam/test.ipynb#ch0000012?line=25'>26</a>\u001b[0m backend\u001b[39m.\u001b[39;49mupdate()\n\u001b[1;32m     <a href='vscode-notebook-cell:/home/alon18/Desktop/Link%20to%20repos/smallslam/test.ipynb#ch0000012?line=27'>28</a>\u001b[0m \u001b[39m#dead reckoning integration\u001b[39;00m\n\u001b[1;32m     <a href='vscode-notebook-cell:/home/alon18/Desktop/Link%20to%20repos/smallslam/test.ipynb#ch0000012?line=28'>29</a>\u001b[0m xcurrent_DR[\u001b[39m2\u001b[39m] \u001b[39m+\u001b[39m\u001b[39m=\u001b[39m meas_odom\u001b[39m.\u001b[39mdtheta\n",
      "File \u001b[0;32m~/repos/smallslam/solver.py:28\u001b[0m, in \u001b[0;36msolver.update\u001b[0;34m(self)\u001b[0m\n\u001b[1;32m     <a href='file:///~/repos/smallslam/solver.py?line=26'>27</a>\u001b[0m \u001b[39mdef\u001b[39;00m \u001b[39mupdate\u001b[39m(\u001b[39mself\u001b[39m):\n\u001b[0;32m---> <a href='file:///~/repos/smallslam/solver.py?line=27'>28</a>\u001b[0m     \u001b[39mself\u001b[39;49m\u001b[39m.\u001b[39;49misam2\u001b[39m.\u001b[39;49mupdate(\u001b[39mself\u001b[39;49m\u001b[39m.\u001b[39;49mgraph, \u001b[39mself\u001b[39;49m\u001b[39m.\u001b[39;49minitial_estimate)\n\u001b[1;32m     <a href='file:///~/repos/smallslam/solver.py?line=28'>29</a>\u001b[0m     \u001b[39mself\u001b[39m\u001b[39m.\u001b[39mcurrent_estimate \u001b[39m=\u001b[39m \u001b[39mself\u001b[39m\u001b[39m.\u001b[39misam2\u001b[39m.\u001b[39mcalculateEstimate()\n\u001b[1;32m     <a href='file:///~/repos/smallslam/solver.py?line=29'>30</a>\u001b[0m     \u001b[39mself\u001b[39m\u001b[39m.\u001b[39mi \u001b[39m+\u001b[39m\u001b[39m=\u001b[39m \u001b[39m1\u001b[39m\n",
      "\u001b[0;31mRuntimeError\u001b[0m: Attempting to add a key-value pair with key \"x0\", key already exists."
     ]
    }
   ],
   "source": [
    "car, worldMap, ax, fig = utils.default_world()\n",
    "prms = utils.default_parameters()\n",
    "backend = solver.solver()\n",
    "\n",
    "#init history loggers\n",
    "hist_GT = np.array(car.pose)\n",
    "hist_DR = hist_GT.copy()\n",
    "hist_LM = []\n",
    "hist_solverResults = []\n",
    "\n",
    "#set graphics\n",
    "graphic_GT_traj, = plt.plot([], [],'ko-',markersize = 1)\n",
    "graphic_DR_traj, = plt.plot([], [],'ro-',markersize = 1)\n",
    "\n",
    "#run and plot simulation\n",
    "time = 0\n",
    "xcurrent_DR = hist_GT.copy()\n",
    "with plt.ion():\n",
    "    while time <= prms[\"time\"][\"timeFinal\"]:\n",
    "        meas_odom = car.moveAndMeasureOdometrey((prms[\"odom\"]))\n",
    "        meas_lms = car.measureLandmarks(worldMap)\n",
    "\n",
    "        backend.addOdomMeasurement(meas_odom)\n",
    "        #for meas_lm in meas_lms:\n",
    "        #    backend.addlandmarkMeasurement(meas_lm)\n",
    "        backend.update()\n",
    "\n",
    "        #dead reckoning integration\n",
    "        xcurrent_DR[2] += meas_odom.dtheta\n",
    "        xcurrent_DR[0] += meas_odom.dx * np.cos(xcurrent_DR[2])\n",
    "        xcurrent_DR[1] += meas_odom.dy * np.sin(xcurrent_DR[2])\n",
    "        \n",
    "        #log history\n",
    "        hist_GT = np.vstack([hist_GT,car.pose])\n",
    "        hist_DR = np.vstack([hist_DR,xcurrent_DR])\n",
    "        hist_LM.append(meas_lm)\n",
    "        hist_solverResults.append(backend.getResult())\n",
    "\n",
    "        #increase time\n",
    "        time += prms[\"time\"][\"dt\"]\n",
    "\n",
    "        #plot\n",
    "        car.plot()\n",
    "        graphic_GT_traj.set_data(hist_GT[:,0],hist_GT[:,1])\n",
    "        graphic_DR_traj.set_data(hist_DR[:,0],hist_DR[:,1])\n",
    "        plt.draw()\n",
    "        plt.pause(prms[\"time\"][\"dt\"])"
   ]
  },
  {
   "cell_type": "code",
   "execution_count": 5,
   "metadata": {},
   "outputs": [
    {
     "data": {
      "text/plain": [
       "NonlinearFactorGraph: size: 2\n",
       "\n",
       "Factor 0: PriorFactor on x0\n",
       "  prior mean:  (0, 0, 0)\n",
       "isotropic dim=3 sigma=0.1\n",
       "\n",
       "Factor 1: BetweenFactor(x0,x1)\n",
       "  measured:  (0.518246826, 0.40319746, 0.341316708)\n",
       "  noise model: diagonal sigmas[0.1; 0.1; 0.0523598776];\n"
      ]
     },
     "execution_count": 5,
     "metadata": {},
     "output_type": "execute_result"
    }
   ],
   "source": [
    "backend.graph"
   ]
  }
 ],
 "metadata": {
  "interpreter": {
   "hash": "30d3d2a437c141a2ca155708e77ef0fb47f3bb6e3e8e854aeca73371a2a95d1c"
  },
  "kernelspec": {
   "display_name": "Python 3.9.10 ('smallslam')",
   "language": "python",
   "name": "python3"
  },
  "language_info": {
   "codemirror_mode": {
    "name": "ipython",
    "version": 3
   },
   "file_extension": ".py",
   "mimetype": "text/x-python",
   "name": "python",
   "nbconvert_exporter": "python",
   "pygments_lexer": "ipython3",
   "version": "3.9.10"
  },
  "orig_nbformat": 4
 },
 "nbformat": 4,
 "nbformat_minor": 2
}
